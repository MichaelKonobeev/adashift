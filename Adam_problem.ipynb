{
 "cells": [
  {
   "cell_type": "markdown",
   "metadata": {},
   "source": [
    "## Adam convergence problem"
   ]
  },
  {
   "cell_type": "code",
   "execution_count": 24,
   "metadata": {},
   "outputs": [],
   "source": [
    "import torch\n",
    "import matplotlib.pyplot as plt\n",
    "import numpy as np"
   ]
  },
  {
   "cell_type": "markdown",
   "metadata": {},
   "source": [
    "We will solve the online optimization problem for function  $f_t(x) = \\begin{cases} 1010x, \\text{for t mod 101} = 1 \\\\ \n",
    "-10x, otherwise \\end{cases}$\n",
    "\n",
    "Online optimization task: $ F(x) = \\sum_t f_t(x)  \\to min_x$\n",
    "\n",
    "with the constraint set $\\mathcal{F} =[-1, 1]$\n",
    "\n",
    "The analitical solution for this task is $x^*=-1$\n",
    "\n",
    "In order to understand the problems of Adam, we denote the concept of \"regret\": $R_T = \\sum\\limits_{t=1}^T f_t(x_t) - \\min\\limits_{x \\in \\mathcal{F}} \\sum\\limits_{t=1}^T f_t(x)$\n",
    "\n",
    "The regret should tend to zero during optimization, it implies that on average,\n",
    "the model’s performance converges to the optimal one."
   ]
  },
  {
   "cell_type": "code",
   "execution_count": 25,
   "metadata": {},
   "outputs": [],
   "source": [
    "loss_buffer = []"
   ]
  },
  {
   "cell_type": "code",
   "execution_count": 36,
   "metadata": {},
   "outputs": [],
   "source": [
    "import adashift.optimizers as ad_opt"
   ]
  },
  {
   "cell_type": "code",
   "execution_count": 26,
   "metadata": {},
   "outputs": [],
   "source": [
    "x_max = torch.tensor([1.0], requires_grad=True)\n",
    "x_min = torch.tensor([-1.0], requires_grad=True)\n",
    "\n",
    "def online_f_t(x, t):\n",
    "    if t % 101 == 1:\n",
    "        return 1010.0*x\n",
    "    else:\n",
    "        return -10.0*x\n",
    "    \n",
    "def f_min(t):\n",
    "    if t % 101 == 1:\n",
    "        return -1010.0\n",
    "    else:\n",
    "        return 10.0\n",
    "\n",
    "def domain_constraints(x):\n",
    "    if x > 1.0:\n",
    "        return x_max\n",
    "    if x < -1.0:\n",
    "        return x_min\n",
    "    return x"
   ]
  },
  {
   "cell_type": "code",
   "execution_count": 54,
   "metadata": {},
   "outputs": [],
   "source": [
    "def OnlineLearning(optimizer_type='Adam',learning_rate=1e-3, amsgrad=False, max_step = 1000001):\n",
    "    x = torch.tensor([0.25], requires_grad=True)\n",
    "    if optimizer_type == \"Adam\":\n",
    "        optimizer = torch.optim.Adam([x], lr=learning_rate, betas=(0.9, 0.99), eps=1e-8)\n",
    "    else:\n",
    "        optimizer = ad_opt.AdaShift([x], lr=learning_rate, betas=(0.9, 0.99), eps=1e-8)\n",
    "    regret_sum = 0\n",
    "    time_steps = []\n",
    "    avg_regret_history = []\n",
    "    x_history = []\n",
    "\n",
    "    for step in range(1, max_step):\n",
    "        x = domain_constraints(x)\n",
    "        loss = online_f_t(x, step)\n",
    "\n",
    "        regret_sum += (loss.item() - f_min(step))\n",
    "        regret_avg = regret_sum/step\n",
    "    \n",
    "        optimizer.zero_grad()\n",
    "        loss.backward()\n",
    "        \n",
    "        x_history.append(x.item())\n",
    "\n",
    "        if step % 1000 == 0:\n",
    "            time_steps.append(step)\n",
    "            avg_regret_history.append(regret_avg)\n",
    "        if step % 50000 == 0:\n",
    "            print ('step : ',step, '  loss : ',loss.item() , ' regret_avg : ',regret_avg )\n",
    "        \n",
    "        optimizer.step()   \n",
    "    return time_steps, avg_regret_history, x_history"
   ]
  },
  {
   "cell_type": "code",
   "execution_count": 55,
   "metadata": {
    "scrolled": true
   },
   "outputs": [
    {
     "name": "stdout",
     "output_type": "stream",
     "text": [
      "step :  50000   loss :  tensor([-10.])  regret_avg :  0.2574927008267492\n",
      "step :  100000   loss :  tensor([-10.])  regret_avg :  0.2267463504133746\n",
      "step :  150000   loss :  tensor([-10.])  regret_avg :  0.21649756694224973\n",
      "step :  200000   loss :  tensor([-10.])  regret_avg :  0.2113731752066873\n",
      "step :  250000   loss :  tensor([-10.])  regret_avg :  0.20829854016534985\n",
      "step :  300000   loss :  tensor([-10.])  regret_avg :  0.20624878347112488\n",
      "step :  350000   loss :  tensor([-10.])  regret_avg :  0.20478467154667845\n",
      "step :  400000   loss :  tensor([-10.])  regret_avg :  0.20368658760334366\n",
      "step :  450000   loss :  tensor([-10.])  regret_avg :  0.20283252231408325\n",
      "step :  500000   loss :  tensor([-10.])  regret_avg :  0.20214927008267491\n",
      "step :  550000   loss :  tensor([-10.])  regret_avg :  0.20159024552970448\n",
      "step :  600000   loss :  tensor([-10.])  regret_avg :  0.20112439173556243\n",
      "step :  650000   loss :  tensor([-10.])  regret_avg :  0.20073020775590378\n",
      "step :  700000   loss :  tensor([-10.])  regret_avg :  0.20039233577333923\n",
      "step :  750000   loss :  tensor([-10.])  regret_avg :  0.20009951338844995\n",
      "step :  800000   loss :  tensor([-10.])  regret_avg :  0.19984329380167182\n",
      "step :  850000   loss :  tensor([-10.])  regret_avg :  0.19961721769569113\n",
      "step :  900000   loss :  tensor([-10.])  regret_avg :  0.1994162611570416\n",
      "step :  950000   loss :  tensor([-10.])  regret_avg :  0.19923645793824996\n",
      "step :  1000000   loss :  tensor([-10.])  regret_avg :  0.19907463504133746\n"
     ]
    }
   ],
   "source": [
    "lr = 1e-1\n",
    "\n",
    "time_steps, avg_regret_history, x_history = OnlineLearning(learning_rate=lr)"
   ]
  },
  {
   "cell_type": "code",
   "execution_count": 56,
   "metadata": {},
   "outputs": [
    {
     "name": "stdout",
     "output_type": "stream",
     "text": [
      "step :  50000   loss :  tensor([-10.])  regret_avg :  0.22313361695289613\n",
      "step :  100000   loss :  tensor([-10.])  regret_avg :  0.20956680847644807\n",
      "step :  150000   loss :  tensor([-10.])  regret_avg :  0.2050445389842987\n",
      "step :  200000   loss :  tensor([-10.])  regret_avg :  0.20278340423822402\n",
      "step :  250000   loss :  tensor([-10.])  regret_avg :  0.2014267233905792\n",
      "step :  300000   loss :  tensor([-10.])  regret_avg :  0.20052226949214935\n",
      "step :  350000   loss :  tensor([-10.])  regret_avg :  0.19987623099327087\n",
      "step :  400000   loss :  tensor([-10.])  regret_avg :  0.199391702119112\n",
      "step :  450000   loss :  tensor([-10.])  regret_avg :  0.19901484632809957\n",
      "step :  500000   loss :  tensor([-10.])  regret_avg :  0.1987133616952896\n",
      "step :  550000   loss :  tensor([-10.])  regret_avg :  0.19846669245026327\n",
      "step :  600000   loss :  tensor([-10.])  regret_avg :  0.19826113474607468\n",
      "step :  650000   loss :  tensor([-10.])  regret_avg :  0.19808720130406893\n",
      "step :  700000   loss :  tensor([-10.])  regret_avg :  0.19793811549663543\n",
      "step :  750000   loss :  tensor([-10.])  regret_avg :  0.19780890779685975\n",
      "step :  800000   loss :  tensor([-10.])  regret_avg :  0.197695851059556\n",
      "step :  850000   loss :  tensor([-10.])  regret_avg :  0.19759609511487625\n",
      "step :  900000   loss :  tensor([-10.])  regret_avg :  0.1975074231640498\n",
      "step :  950000   loss :  tensor([-10.])  regret_avg :  0.197428085102784\n",
      "step :  1000000   loss :  tensor([-10.])  regret_avg :  0.1973566808476448\n"
     ]
    }
   ],
   "source": [
    "adashift_time_steps, adashift_avg_regret_history, adashift_x_history = OnlineLearning(learning_rate=lr, optimizer_type='Adashift')"
   ]
  },
  {
   "cell_type": "code",
   "execution_count": 65,
   "metadata": {},
   "outputs": [
    {
     "data": {
      "image/png": "[encoded data removed]",
      "text/plain": [
       "<Figure size 432x288 with 1 Axes>"
      ]
     },
     "metadata": {
      "needs_background": "light"
     },
     "output_type": "display_data"
    }
   ],
   "source": [
    "plt.title(\"Regret\")\n",
    "plt.plot(adashift_avg_regret_history, label='adashift')\n",
    "plt.plot(avg_regret_history,label='adam')\n",
    "plt.legend()\n",
    "plt.show()"
   ]
  },
  {
   "cell_type": "code",
   "execution_count": 64,
   "metadata": {},
   "outputs": [
    {
     "data": {
      "image/png": "[encoded data removed]",
      "text/plain": [
       "<Figure size 432x288 with 1 Axes>"
      ]
     },
     "metadata": {
      "needs_background": "light"
     },
     "output_type": "display_data"
    }
   ],
   "source": [
    "plt.title(\"1000 iterations\")\n",
    "plt.plot(adashift_x_history[:1000], label='adashift')\n",
    "plt.plot(x_history[:1000],label='adam')\n",
    "plt.legend()\n",
    "plt.show()"
   ]
  }
 ],
 "metadata": {
  "kernelspec": {
   "display_name": "Python 3",
   "language": "python",
   "name": "python3"
  },
  "language_info": {
   "codemirror_mode": {
    "name": "ipython",
    "version": 3
   },
   "file_extension": ".py",
   "mimetype": "text/x-python",
   "name": "python",
   "nbconvert_exporter": "python",
   "pygments_lexer": "ipython3",
   "version": "3.6.4"
  }
 },
 "nbformat": 4,
 "nbformat_minor": 2
}
