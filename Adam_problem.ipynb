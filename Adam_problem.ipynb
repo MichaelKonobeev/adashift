{
 "cells": [
  {
   "cell_type": "markdown",
   "metadata": {},
   "source": [
    "## Adam convergence problem"
   ]
  },
  {
   "cell_type": "code",
   "execution_count": 2,
   "metadata": {},
   "outputs": [],
   "source": [
    "import torch\n",
    "import matplotlib.pyplot as plt\n",
    "import numpy as np\n",
    "from scipy.signal import savgol_filter"
   ]
  },
  {
   "cell_type": "markdown",
   "metadata": {},
   "source": [
    "# Synthetic example 1: online learning\n",
    "\n",
    "We will solve the online optimization problem for function  $f_t(x) = \\begin{cases} 1010x, \\text{for t mod 101} = 1 \\\\ \n",
    "-10x, otherwise \\end{cases}$\n",
    "\n",
    "Online optimization task: $ F(x) = \\sum_t f_t(x)  \\to min_x$\n",
    "\n",
    "with the constraint set $\\mathcal{F} =[-1, 1]$\n",
    "\n",
    "The analitical solution for this task is $x^*=-1$\n",
    "\n",
    "In order to understand the problems of Adam, we denote the concept of \"regret\": $R_T = \\sum\\limits_{t=1}^T f_t(x_t) - \\min\\limits_{x \\in \\mathcal{F}} \\sum\\limits_{t=1}^T f_t(x)$\n",
    "\n",
    "The regret should tend to zero during optimization, it implies that on average,\n",
    "the model’s performance converges to the optimal one."
   ]
  },
  {
   "cell_type": "code",
   "execution_count": 3,
   "metadata": {},
   "outputs": [],
   "source": [
    "loss_buffer = []"
   ]
  },
  {
   "cell_type": "code",
   "execution_count": 4,
   "metadata": {},
   "outputs": [],
   "source": [
    "import adashift.optimizers as ad_opt"
   ]
  },
  {
   "cell_type": "code",
   "execution_count": 5,
   "metadata": {},
   "outputs": [],
   "source": [
    "def online_f_t(x, t):\n",
    "    if t % 101 == 1:\n",
    "        return 1010.0*x\n",
    "    else:\n",
    "        return -10.0*x\n",
    "    \n",
    "def f_min(t):\n",
    "    if t % 101 == 1:\n",
    "        return -1010.0\n",
    "    else:\n",
    "        return 10.0"
   ]
  },
  {
   "cell_type": "code",
   "execution_count": 6,
   "metadata": {},
   "outputs": [],
   "source": [
    "def OnlineLearning(optimizer_type='Adam', alpha=1, lr_decay=True, eps=0.,\n",
    "                   x_init=0.0, betas=(0.9, 0.99), amsgrad=False, max_step = 1000001):\n",
    "    x = torch.tensor([x_init], requires_grad=True)\n",
    "    lr = alpha\n",
    "    if optimizer_type == \"Adam\":\n",
    "        optimizer = torch.optim.Adam([x], amsgrad=amsgrad, lr=lr, betas=betas, eps=eps)\n",
    "    else:\n",
    "        optimizer = ad_opt.AdaShift([x], lr=lr, betas=betas, eps=eps)\n",
    "    \n",
    "    \n",
    "    regret_sum = 0\n",
    "    time_steps = []\n",
    "    avg_regret_history = []\n",
    "    x_history = []\n",
    "    \n",
    "    if lr_decay:\n",
    "        lambda_lr_decay = lambda step: alpha / np.sqrt(step + 1) \n",
    "        scheduler = torch.optim.lr_scheduler.LambdaLR(optimizer, lr_lambda=lambda_lr_decay)\n",
    "\n",
    "    for step in range(1, max_step):\n",
    "        # constraint\n",
    "        x.data = x.data.clamp(-1, 1)\n",
    "        \n",
    "        loss = online_f_t(x, step)\n",
    "\n",
    "        regret_sum += (loss.item() - f_min(step))\n",
    "        regret_avg = regret_sum / step\n",
    "    \n",
    "        loss.backward()\n",
    "        \n",
    "        x_history.append(x.item())\n",
    "\n",
    "        if step % 10000 == 0:\n",
    "            time_steps.append(step)\n",
    "            avg_regret_history.append(regret_avg)\n",
    "        if step % 50000 == 0:\n",
    "            print('step : {} loss: {} regret_avg : {} x: {}'.format(step, loss.item() , regret_avg, x.item()))\n",
    "\n",
    "        optimizer.step()\n",
    "                                \n",
    "        if lr_decay:\n",
    "            scheduler.step()\n",
    "        optimizer.zero_grad()\n",
    "                                                      \n",
    "    return time_steps, avg_regret_history, x_history"
   ]
  },
  {
   "cell_type": "code",
   "execution_count": 7,
   "metadata": {
    "scrolled": true
   },
   "outputs": [
    {
     "name": "stdout",
     "output_type": "stream",
     "text": [
      "step : 50000 loss: -9.889703750610352 regret_avg : 0.5064160318643972 x: 0.9889703989028931\n",
      "step : 100000 loss: -9.864534378051758 regret_avg : 0.4067958696881495 x: 0.9864534735679626\n",
      "step : 150000 loss: -9.865385055541992 regret_avg : 0.36496170430763314 x: 0.9865384697914124\n",
      "step : 200000 loss: -9.87474250793457 regret_avg : 0.34069641541677526 x: 0.9874742031097412\n",
      "step : 250000 loss: -9.886850357055664 regret_avg : 0.3244257141243443 x: 0.9886850118637085\n",
      "step : 300000 loss: -9.899446487426758 regret_avg : 0.31256548273217555 x: 0.9899446368217468\n",
      "step : 350000 loss: -9.911629676818848 regret_avg : 0.30343590262934034 x: 0.9911629557609558\n",
      "step : 400000 loss: -9.92305850982666 regret_avg : 0.296132920313864 x: 0.9923058152198792\n",
      "step : 450000 loss: -9.933679580688477 regret_avg : 0.29012169665317983 x: 0.9933679699897766\n",
      "step : 500000 loss: -9.943526268005371 regret_avg : 0.28506324361689017 x: 0.9943526387214661\n",
      "step : 550000 loss: -9.952676773071289 regret_avg : 0.28073099849078803 x: 0.9952676892280579\n",
      "step : 600000 loss: -9.96122932434082 regret_avg : 0.27696713664756156 x: 0.9961228966712952\n",
      "step : 650000 loss: -9.969263076782227 regret_avg : 0.27365787758814314 x: 0.9969263076782227\n",
      "step : 700000 loss: -9.976862907409668 regret_avg : 0.27071892833493383 x: 0.9976863265037537\n",
      "step : 750000 loss: -9.984089851379395 regret_avg : 0.26808631337917593 x: 0.9984089732170105\n",
      "step : 800000 loss: -9.991005897521973 regret_avg : 0.2657104797034408 x: 0.9991006255149841\n",
      "step : 850000 loss: -9.997658729553223 regret_avg : 0.2635523970429051 x: 0.9997658729553223\n",
      "step : 900000 loss: -10.0 regret_avg : 0.2615808684745493 x: 1.0\n",
      "step : 950000 loss: -10.0 regret_avg : 0.2597706107866509 x: 1.0\n",
      "step : 1000000 loss: -10.0 regret_avg : 0.2581008625005837 x: 1.0\n"
     ]
    }
   ],
   "source": [
    "time_steps, avg_regret_history, x_history = OnlineLearning()"
   ]
  },
  {
   "cell_type": "code",
   "execution_count": 8,
   "metadata": {
    "scrolled": true
   },
   "outputs": [
    {
     "name": "stdout",
     "output_type": "stream",
     "text": [
      "step : 50000 loss: 9.866371154785156 regret_avg : 0.31438388655662536 x: -0.9866371154785156\n",
      "step : 100000 loss: 9.961386680603027 regret_avg : 0.21818185344219207 x: -0.9961386919021606\n",
      "step : 150000 loss: 9.991243362426758 regret_avg : 0.17665850755373638 x: -0.9991243481636047\n",
      "step : 200000 loss: 10.0 regret_avg : 0.15222457282304763 x: -1.0\n",
      "step : 250000 loss: 9.999848365783691 regret_avg : 0.13568644660758972 x: -0.999984860420227\n",
      "step : 300000 loss: 9.997462272644043 regret_avg : 0.12354939424355825 x: -0.9997462034225464\n",
      "step : 350000 loss: 9.993610382080078 regret_avg : 0.11415800917625427 x: -0.9993610382080078\n",
      "step : 400000 loss: 9.989237785339355 regret_avg : 0.10661424065232276 x: -0.9989237785339355\n",
      "step : 450000 loss: 9.984785079956055 regret_avg : 0.1003834655518002 x: -0.9984785318374634\n",
      "step : 500000 loss: 9.980443954467773 regret_avg : 0.09512502759456634 x: -0.9980443716049194\n",
      "step : 550000 loss: 9.976297378540039 regret_avg : 0.09061028428251093 x: -0.997629702091217\n",
      "step : 600000 loss: 9.97236156463623 regret_avg : 0.08667933124303817 x: -0.9972361326217651\n",
      "step : 650000 loss: 9.96863842010498 regret_avg : 0.08321655632972717 x: -0.996863842010498\n",
      "step : 700000 loss: 9.965115547180176 regret_avg : 0.08013602013519833 x: -0.9965115189552307\n",
      "step : 750000 loss: 9.961771011352539 regret_avg : 0.07737233556048076 x: -0.996177077293396\n",
      "step : 800000 loss: 9.95859432220459 regret_avg : 0.07487476393163205 x: -0.9958594441413879\n",
      "step : 850000 loss: 9.955567359924316 regret_avg : 0.07260324488191043 x: -0.9955567121505737\n",
      "step : 900000 loss: 9.952668190002441 regret_avg : 0.07052567510763805 x: -0.9952667951583862\n",
      "step : 950000 loss: 9.949888229370117 regret_avg : 0.06861598586082458 x: -0.9949888586997986\n",
      "step : 1000000 loss: 9.947218894958496 regret_avg : 0.06685275888586044 x: -0.9947218894958496\n"
     ]
    }
   ],
   "source": [
    "amsgrad_time_steps, amsgrad_avg_regret_history, amsgrad_x_history = OnlineLearning(amsgrad=True)"
   ]
  },
  {
   "cell_type": "code",
   "execution_count": 9,
   "metadata": {},
   "outputs": [
    {
     "name": "stdout",
     "output_type": "stream",
     "text": [
      "step : 50000 loss: 9.873220443725586 regret_avg : 0.46133322309844194 x: -0.9873220920562744\n",
      "step : 100000 loss: 10.0 regret_avg : 0.32524554844077674 x: -1.0\n",
      "step : 150000 loss: 9.991798400878906 regret_avg : 0.2652160040167719 x: -0.9991798400878906\n",
      "step : 200000 loss: 9.98381519317627 regret_avg : 0.22950586252776906 x: -0.9983815550804138\n",
      "step : 250000 loss: 9.977197647094727 regret_avg : 0.2051678520629257 x: -0.9977197647094727\n",
      "step : 300000 loss: 9.971391677856445 regret_avg : 0.18721873679219433 x: -0.9971391558647156\n",
      "step : 350000 loss: 9.966115951538086 regret_avg : 0.173278321160408 x: -0.9966115951538086\n",
      "step : 400000 loss: 9.961211204528809 regret_avg : 0.16204738431974314 x: -0.9961211085319519\n",
      "step : 450000 loss: 9.956570625305176 regret_avg : 0.1527487501317842 x: -0.9956570863723755\n",
      "step : 500000 loss: 9.952126502990723 regret_avg : 0.14488528773724288 x: -0.9952126741409302\n",
      "step : 550000 loss: 9.947837829589844 regret_avg : 0.1381222433925691 x: -0.9947838187217712\n",
      "step : 600000 loss: 9.943656921386719 regret_avg : 0.13222486033627764 x: -0.9943656921386719\n",
      "step : 650000 loss: 9.939566612243652 regret_avg : 0.12702299467407166 x: -0.9939566254615784\n",
      "step : 700000 loss: 9.935537338256836 regret_avg : 0.12238990945841052 x: -0.9935536980628967\n",
      "step : 750000 loss: 9.93155574798584 regret_avg : 0.11822900174863636 x: -0.9931555986404419\n",
      "step : 800000 loss: 9.927606582641602 regret_avg : 0.11446517678997944 x: -0.9927606582641602\n",
      "step : 850000 loss: 9.92368221282959 regret_avg : 0.11103906178326729 x: -0.992368221282959\n",
      "step : 900000 loss: 9.919768333435059 regret_avg : 0.10790301073305723 x: -0.991976797580719\n",
      "step : 950000 loss: 9.915854454040527 regret_avg : 0.10501828575052322 x: -0.9915854334831238\n",
      "step : 1000000 loss: 9.91193962097168 regret_avg : 0.10235302256887778 x: -0.991193950176239\n"
     ]
    }
   ],
   "source": [
    "adashift_time_steps, adashift_avg_regret_history, adashift_x_history = OnlineLearning(optimizer_type='Adashift') "
   ]
  },
  {
   "cell_type": "markdown",
   "metadata": {},
   "source": [
    "Regret should tend to zero. As we can see it is done only for amsgrad."
   ]
  },
  {
   "cell_type": "code",
   "execution_count": 10,
   "metadata": {
    "scrolled": true
   },
   "outputs": [
    {
     "data": {
      "image/png": "[encoded data removed]",
      "text/plain": [
       "<Figure size 432x288 with 1 Axes>"
      ]
     },
     "metadata": {
      "needs_background": "light"
     },
     "output_type": "display_data"
    }
   ],
   "source": [
    "plt.title(\"Regret\")\n",
    "plt.plot(np.linspace(1, 1000001, 100), adashift_avg_regret_history, label='adashift')\n",
    "plt.plot(np.linspace(1, 1000001, 100), avg_regret_history,label='adam')\n",
    "plt.plot(np.linspace(1, 1000001, 100), amsgrad_avg_regret_history,label='amsgrad')\n",
    "plt.xlabel(\"iterations\")\n",
    "plt.ylabel(r\"$\\dfrac{R_t}{t}$\")\n",
    "plt.legend()\n",
    "plt.show()"
   ]
  },
  {
   "cell_type": "code",
   "execution_count": 11,
   "metadata": {},
   "outputs": [
    {
     "data": {
      "image/png": "[encoded data removed]",
      "text/plain": [
       "<Figure size 432x288 with 1 Axes>"
      ]
     },
     "metadata": {
      "needs_background": "light"
     },
     "output_type": "display_data"
    }
   ],
   "source": [
    "plt.title(\"Optimal x\")\n",
    "plt.plot(adashift_x_history, label='adashift')\n",
    "plt.plot(x_history,label='adam')\n",
    "plt.plot(amsgrad_x_history,label='amsgrad')\n",
    "plt.legend()\n",
    "plt.xlabel(\"iterations\")\n",
    "plt.ylabel(r\"$x_t$\")\n",
    "plt.show()"
   ]
  },
  {
   "cell_type": "markdown",
   "metadata": {},
   "source": [
    "# Synthetic example 2: stochastic case\n",
    "\n",
    "Let's see on the similar task, but with stochasticity.\n",
    "\n",
    "$\\delta = 0.002$\n",
    "C = 101\n",
    "\n",
    "$f_t(x) = \\begin{cases} Cx, \\text{with p } =\\frac{1+\\delta}{C+1} \\\\ \n",
    "-x, otherwise \\end{cases}$\n",
    "\n",
    "Cost function is $\\delta x$"
   ]
  },
  {
   "cell_type": "code",
   "execution_count": 12,
   "metadata": {},
   "outputs": [],
   "source": [
    "delta = 0.02\n",
    "C = 101\n",
    "p = (1+delta)/(C + 1)\n",
    "\n",
    "def stoch_f_t(x, t):\n",
    "    if np.random.binomial(1,p):\n",
    "        return C*x\n",
    "    else:\n",
    "        return -x"
   ]
  },
  {
   "cell_type": "code",
   "execution_count": 13,
   "metadata": {},
   "outputs": [],
   "source": [
    "def StochLearning(optimizer_type='Adam', alpha=1e-3, lr_decay=True,\\\n",
    "                  eps=1e-10, betas=(0.0, 0.999), amsgrad=False, max_step = 1000001):\n",
    "    \n",
    "    x = torch.tensor([0.0], requires_grad=True)\n",
    "    if optimizer_type == \"Adam\":\n",
    "        optimizer = torch.optim.Adam([x], lr=alpha, betas=betas, eps=eps, amsgrad=amsgrad)\n",
    "    else:\n",
    "        optimizer = ad_opt.AdaShift([x], lr=alpha, keep_num=1, betas=betas, eps=eps)\n",
    "\n",
    "    time_steps = []\n",
    "    avg_regret_history = []\n",
    "    x_history = []\n",
    "    loss_history = []\n",
    "    print(\"Optimization with {}\".format(optimizer_type))\n",
    "    \n",
    "    if lr_decay:\n",
    "        lambda_lr_decay = lambda step: alpha / np.sqrt(step + 1) \n",
    "        scheduler = torch.optim.lr_scheduler.LambdaLR(optimizer, lr_lambda=lambda_lr_decay)\n",
    "\n",
    "    for step in range(1, max_step):\n",
    "        #x.data = x.data.clamp(-1.0, 1.0)\n",
    "\n",
    "        loss = stoch_f_t(x, step)\n",
    "\n",
    "        loss.backward()\n",
    "        if step % 10000 == 0:\n",
    "            x_history.append(x.item())\n",
    "            loss_history.append(loss.item())\n",
    "            time_steps.append(step)\n",
    "\n",
    "        if step % 100000 == 0:\n",
    "            print ('step : ', step, '  loss : ', loss.item(), ' x:', x.item())\n",
    "                                 \n",
    "        optimizer.step()   \n",
    "\n",
    "        if lr_decay:\n",
    "            scheduler.step()\n",
    "        \n",
    "        optimizer.zero_grad()\n",
    "            \n",
    "    return time_steps, loss_history, x_history"
   ]
  },
  {
   "cell_type": "code",
   "execution_count": 14,
   "metadata": {
    "scrolled": true
   },
   "outputs": [
    {
     "name": "stdout",
     "output_type": "stream",
     "text": [
      "Optimization with Adam\n",
      "step :  100000   loss :  -1.1847261190414429  x: 1.1847261190414429\n",
      "step :  200000   loss :  -1.4070461988449097  x: 1.4070461988449097\n",
      "step :  300000   loss :  -1.7301219701766968  x: 1.7301219701766968\n",
      "step :  400000   loss :  -2.104252576828003  x: 2.104252576828003\n",
      "step :  500000   loss :  -2.7960855960845947  x: 2.7960855960845947\n",
      "step :  600000   loss :  -3.5971755981445312  x: 3.5971755981445312\n",
      "step :  700000   loss :  -4.240509033203125  x: 4.240509033203125\n",
      "step :  800000   loss :  -4.502536773681641  x: 4.502536773681641\n",
      "step :  900000   loss :  -4.662587642669678  x: 4.662587642669678\n",
      "step :  1000000   loss :  -5.070318698883057  x: 5.070318698883057\n",
      "step :  1100000   loss :  -5.384920597076416  x: 5.384920597076416\n",
      "step :  1200000   loss :  -5.2494916915893555  x: 5.2494916915893555\n",
      "step :  1300000   loss :  -5.3970627784729  x: 5.3970627784729\n",
      "step :  1400000   loss :  -5.596741676330566  x: 5.596741676330566\n",
      "step :  1500000   loss :  -6.008414268493652  x: 6.008414268493652\n",
      "step :  1600000   loss :  -6.78537654876709  x: 6.78537654876709\n",
      "step :  1700000   loss :  -7.100484848022461  x: 7.100484848022461\n",
      "step :  1800000   loss :  -7.642403602600098  x: 7.642403602600098\n",
      "step :  1900000   loss :  -8.169049263000488  x: 8.169049263000488\n",
      "step :  2000000   loss :  -8.562658309936523  x: 8.562658309936523\n",
      "step :  2100000   loss :  -8.710331916809082  x: 8.710331916809082\n",
      "step :  2200000   loss :  -9.028823852539062  x: 9.028823852539062\n",
      "step :  2300000   loss :  -10.531248092651367  x: 10.531248092651367\n",
      "step :  2400000   loss :  -10.376737594604492  x: 10.376737594604492\n",
      "step :  2500000   loss :  -10.805197715759277  x: 10.805197715759277\n",
      "step :  2600000   loss :  -11.040071487426758  x: 11.040071487426758\n",
      "step :  2700000   loss :  -11.600111961364746  x: 11.600111961364746\n",
      "step :  2800000   loss :  -12.283075332641602  x: 12.283075332641602\n",
      "step :  2900000   loss :  -12.854783058166504  x: 12.854783058166504\n",
      "step :  3000000   loss :  -12.953192710876465  x: 12.953192710876465\n",
      "step :  3100000   loss :  -13.579699516296387  x: 13.579699516296387\n",
      "step :  3200000   loss :  -13.71220588684082  x: 13.71220588684082\n",
      "step :  3300000   loss :  -14.549880027770996  x: 14.549880027770996\n",
      "step :  3400000   loss :  1484.45361328125  x: 14.69756031036377\n",
      "step :  3500000   loss :  -15.440301895141602  x: 15.440301895141602\n",
      "step :  3600000   loss :  -16.264249801635742  x: 16.264249801635742\n",
      "step :  3700000   loss :  -16.224853515625  x: 16.224853515625\n",
      "step :  3800000   loss :  -16.450313568115234  x: 16.450313568115234\n",
      "step :  3900000   loss :  -16.738100051879883  x: 16.738100051879883\n",
      "step :  4000000   loss :  -17.249980926513672  x: 17.249980926513672\n",
      "step :  4100000   loss :  -17.73457145690918  x: 17.73457145690918\n",
      "step :  4200000   loss :  -17.885164260864258  x: 17.885164260864258\n",
      "step :  4300000   loss :  -17.767845153808594  x: 17.767845153808594\n",
      "step :  4400000   loss :  -18.3480224609375  x: 18.3480224609375\n",
      "step :  4500000   loss :  -18.76740074157715  x: 18.76740074157715\n",
      "step :  4600000   loss :  -18.919906616210938  x: 18.919906616210938\n",
      "step :  4700000   loss :  -19.093120574951172  x: 19.093120574951172\n",
      "step :  4800000   loss :  -19.3359432220459  x: 19.3359432220459\n",
      "step :  4900000   loss :  -20.57540512084961  x: 20.57540512084961\n",
      "step :  5000000   loss :  -20.485252380371094  x: 20.485252380371094\n",
      "step :  5100000   loss :  -21.198232650756836  x: 21.198232650756836\n",
      "step :  5200000   loss :  -21.11430549621582  x: 21.11430549621582\n",
      "step :  5300000   loss :  -21.168184280395508  x: 21.168184280395508\n",
      "step :  5400000   loss :  -21.6210880279541  x: 21.6210880279541\n",
      "step :  5500000   loss :  -21.58517837524414  x: 21.58517837524414\n",
      "step :  5600000   loss :  -22.072921752929688  x: 22.072921752929688\n",
      "step :  5700000   loss :  -21.90089225769043  x: 21.90089225769043\n",
      "step :  5800000   loss :  -22.030771255493164  x: 22.030771255493164\n",
      "step :  5900000   loss :  -21.79073715209961  x: 21.79073715209961\n",
      "step :  6000000   loss :  -22.259828567504883  x: 22.259828567504883\n",
      "step :  6100000   loss :  -22.62893295288086  x: 22.62893295288086\n",
      "step :  6200000   loss :  -22.803356170654297  x: 22.803356170654297\n",
      "step :  6300000   loss :  -22.95709991455078  x: 22.95709991455078\n",
      "step :  6400000   loss :  -23.144319534301758  x: 23.144319534301758\n",
      "step :  6500000   loss :  -23.75922203063965  x: 23.75922203063965\n",
      "step :  6600000   loss :  -24.125959396362305  x: 24.125959396362305\n",
      "step :  6700000   loss :  -24.044891357421875  x: 24.044891357421875\n",
      "step :  6800000   loss :  -24.088661193847656  x: 24.088661193847656\n",
      "step :  6900000   loss :  -24.466503143310547  x: 24.466503143310547\n",
      "step :  7000000   loss :  -24.47447967529297  x: 24.47447967529297\n",
      "step :  7100000   loss :  -24.238370895385742  x: 24.238370895385742\n",
      "step :  7200000   loss :  -24.870508193969727  x: 24.870508193969727\n",
      "step :  7300000   loss :  -24.71416664123535  x: 24.71416664123535\n",
      "step :  7400000   loss :  -25.309829711914062  x: 25.309829711914062\n",
      "step :  7500000   loss :  -25.46268081665039  x: 25.46268081665039\n",
      "step :  7600000   loss :  -25.6578369140625  x: 25.6578369140625\n",
      "step :  7700000   loss :  -26.08003044128418  x: 26.08003044128418\n",
      "step :  7800000   loss :  -26.451635360717773  x: 26.451635360717773\n",
      "step :  7900000   loss :  -26.98204231262207  x: 26.98204231262207\n",
      "step :  8000000   loss :  -27.759675979614258  x: 27.759675979614258\n",
      "step :  8100000   loss :  -28.23503303527832  x: 28.23503303527832\n",
      "step :  8200000   loss :  -28.490901947021484  x: 28.490901947021484\n",
      "step :  8300000   loss :  -28.518051147460938  x: 28.518051147460938\n",
      "step :  8400000   loss :  -28.524202346801758  x: 28.524202346801758\n",
      "step :  8500000   loss :  -29.125585556030273  x: 29.125585556030273\n",
      "step :  8600000   loss :  -29.441280364990234  x: 29.441280364990234\n",
      "step :  8700000   loss :  -29.931488037109375  x: 29.931488037109375\n",
      "step :  8800000   loss :  -30.53805160522461  x: 30.53805160522461\n",
      "step :  8900000   loss :  -30.43130111694336  x: 30.43130111694336\n",
      "step :  9000000   loss :  -31.046688079833984  x: 31.046688079833984\n",
      "step :  9100000   loss :  -31.44439697265625  x: 31.44439697265625\n",
      "step :  9200000   loss :  -31.704538345336914  x: 31.704538345336914\n",
      "step :  9300000   loss :  -32.09241485595703  x: 32.09241485595703\n",
      "step :  9400000   loss :  -32.447166442871094  x: 32.447166442871094\n",
      "step :  9500000   loss :  -33.18728256225586  x: 33.18728256225586\n",
      "step :  9600000   loss :  -33.6731071472168  x: 33.6731071472168\n",
      "step :  9700000   loss :  -34.055484771728516  x: 34.055484771728516\n",
      "step :  9800000   loss :  -34.332462310791016  x: 34.332462310791016\n",
      "step :  9900000   loss :  -35.09705352783203  x: 35.09705352783203\n"
     ]
    }
   ],
   "source": [
    "lr = 1e-3\n",
    "time_steps, loss_history, x_history = StochLearning(alpha=lr, lr_decay=False, max_step=10000000)"
   ]
  },
  {
   "cell_type": "code",
   "execution_count": 15,
   "metadata": {
    "scrolled": true
   },
   "outputs": [
    {
     "name": "stdout",
     "output_type": "stream",
     "text": [
      "Optimization with Adashift\n",
      "step :  100000   loss :  0.31325533986091614  x: -0.31325533986091614\n",
      "step :  200000   loss :  0.28532645106315613  x: -0.28532645106315613\n",
      "step :  300000   loss :  0.8368154168128967  x: -0.8368154168128967\n",
      "step :  400000   loss :  1.0624598264694214  x: -1.0624598264694214\n",
      "step :  500000   loss :  1.8906928300857544  x: -1.8906928300857544\n",
      "step :  600000   loss :  2.344602108001709  x: -2.344602108001709\n",
      "step :  700000   loss :  2.448505163192749  x: -2.448505163192749\n",
      "step :  800000   loss :  2.5806972980499268  x: -2.5806972980499268\n",
      "step :  900000   loss :  2.9236128330230713  x: -2.9236128330230713\n",
      "step :  1000000   loss :  2.4929535388946533  x: -2.4929535388946533\n",
      "step :  1100000   loss :  2.7226791381835938  x: -2.7226791381835938\n",
      "step :  1200000   loss :  2.6651761531829834  x: -2.6651761531829834\n",
      "step :  1300000   loss :  2.685107469558716  x: -2.685107469558716\n",
      "step :  1400000   loss :  2.215848684310913  x: -2.215848684310913\n",
      "step :  1500000   loss :  2.36421537399292  x: -2.36421537399292\n",
      "step :  1600000   loss :  2.2782225608825684  x: -2.2782225608825684\n",
      "step :  1700000   loss :  1.5842700004577637  x: -1.5842700004577637\n",
      "step :  1800000   loss :  1.69608736038208  x: -1.69608736038208\n",
      "step :  1900000   loss :  2.1388800144195557  x: -2.1388800144195557\n",
      "step :  2000000   loss :  2.4918770790100098  x: -2.4918770790100098\n",
      "step :  2100000   loss :  2.4855902194976807  x: -2.4855902194976807\n",
      "step :  2200000   loss :  2.48868989944458  x: -2.48868989944458\n",
      "step :  2300000   loss :  3.0740535259246826  x: -3.0740535259246826\n",
      "step :  2400000   loss :  3.3882386684417725  x: -3.3882386684417725\n",
      "step :  2500000   loss :  2.9736666679382324  x: -2.9736666679382324\n",
      "step :  2600000   loss :  3.432202100753784  x: -3.432202100753784\n",
      "step :  2700000   loss :  4.136037349700928  x: -4.136037349700928\n",
      "step :  2800000   loss :  4.427706241607666  x: -4.427706241607666\n",
      "step :  2900000   loss :  4.10300874710083  x: -4.10300874710083\n",
      "step :  3000000   loss :  4.190589427947998  x: -4.190589427947998\n",
      "step :  3100000   loss :  4.393651008605957  x: -4.393651008605957\n",
      "step :  3200000   loss :  4.594647407531738  x: -4.594647407531738\n",
      "step :  3300000   loss :  5.173344135284424  x: -5.173344135284424\n",
      "step :  3400000   loss :  5.416220188140869  x: -5.416220188140869\n",
      "step :  3500000   loss :  5.165672779083252  x: -5.165672779083252\n",
      "step :  3600000   loss :  5.9280476570129395  x: -5.9280476570129395\n",
      "step :  3700000   loss :  6.340357303619385  x: -6.340357303619385\n",
      "step :  3800000   loss :  6.415966987609863  x: -6.415966987609863\n",
      "step :  3900000   loss :  7.021544456481934  x: -7.021544456481934\n",
      "step :  4000000   loss :  7.241345405578613  x: -7.241345405578613\n",
      "step :  4100000   loss :  -710.30517578125  x: -7.032724380493164\n",
      "step :  4200000   loss :  7.147594451904297  x: -7.147594451904297\n",
      "step :  4300000   loss :  7.534843921661377  x: -7.534843921661377\n",
      "step :  4400000   loss :  7.39988374710083  x: -7.39988374710083\n",
      "step :  4500000   loss :  7.4088544845581055  x: -7.4088544845581055\n",
      "step :  4600000   loss :  7.626873970031738  x: -7.626873970031738\n",
      "step :  4700000   loss :  7.617283344268799  x: -7.617283344268799\n",
      "step :  4800000   loss :  7.9205322265625  x: -7.9205322265625\n",
      "step :  4900000   loss :  8.395398139953613  x: -8.395398139953613\n",
      "step :  5000000   loss :  8.0447998046875  x: -8.0447998046875\n",
      "step :  5100000   loss :  8.56939697265625  x: -8.56939697265625\n",
      "step :  5200000   loss :  8.791878700256348  x: -8.791878700256348\n",
      "step :  5300000   loss :  9.025267601013184  x: -9.025267601013184\n",
      "step :  5400000   loss :  9.052425384521484  x: -9.052425384521484\n",
      "step :  5500000   loss :  8.897454261779785  x: -8.897454261779785\n",
      "step :  5600000   loss :  8.217730522155762  x: -8.217730522155762\n",
      "step :  5700000   loss :  8.340407371520996  x: -8.340407371520996\n",
      "step :  5800000   loss :  8.280197143554688  x: -8.280197143554688\n",
      "step :  5900000   loss :  8.236777305603027  x: -8.236777305603027\n",
      "step :  6000000   loss :  8.052545547485352  x: -8.052545547485352\n",
      "step :  6100000   loss :  7.998349666595459  x: -7.998349666595459\n",
      "step :  6200000   loss :  8.614864349365234  x: -8.614864349365234\n",
      "step :  6300000   loss :  8.182519912719727  x: -8.182519912719727\n",
      "step :  6400000   loss :  8.396403312683105  x: -8.396403312683105\n",
      "step :  6500000   loss :  8.336465835571289  x: -8.336465835571289\n",
      "step :  6600000   loss :  8.933448791503906  x: -8.933448791503906\n",
      "step :  6700000   loss :  8.948176383972168  x: -8.948176383972168\n",
      "step :  6800000   loss :  9.225473403930664  x: -9.225473403930664\n",
      "step :  6900000   loss :  10.242803573608398  x: -10.242803573608398\n",
      "step :  7000000   loss :  10.632209777832031  x: -10.632209777832031\n",
      "step :  7100000   loss :  10.717737197875977  x: -10.717737197875977\n",
      "step :  7200000   loss :  10.950407981872559  x: -10.950407981872559\n",
      "step :  7300000   loss :  10.776394844055176  x: -10.776394844055176\n",
      "step :  7400000   loss :  10.952515602111816  x: -10.952515602111816\n",
      "step :  7500000   loss :  11.826210021972656  x: -11.826210021972656\n",
      "step :  7600000   loss :  12.273371696472168  x: -12.273371696472168\n",
      "step :  7700000   loss :  12.95554256439209  x: -12.95554256439209\n",
      "step :  7800000   loss :  12.145513534545898  x: -12.145513534545898\n",
      "step :  7900000   loss :  11.88361930847168  x: -11.88361930847168\n",
      "step :  8000000   loss :  12.281220436096191  x: -12.281220436096191\n",
      "step :  8100000   loss :  12.825567245483398  x: -12.825567245483398\n",
      "step :  8200000   loss :  12.678954124450684  x: -12.678954124450684\n",
      "step :  8300000   loss :  13.025280952453613  x: -13.025280952453613\n",
      "step :  8400000   loss :  13.25296401977539  x: -13.25296401977539\n",
      "step :  8500000   loss :  13.352694511413574  x: -13.352694511413574\n",
      "step :  8600000   loss :  13.931696891784668  x: -13.931696891784668\n",
      "step :  8700000   loss :  -1466.5198974609375  x: -14.519998550415039\n",
      "step :  8800000   loss :  15.219633102416992  x: -15.219633102416992\n",
      "step :  8900000   loss :  15.406670570373535  x: -15.406670570373535\n",
      "step :  9000000   loss :  16.272245407104492  x: -16.272245407104492\n",
      "step :  9100000   loss :  16.691661834716797  x: -16.691661834716797\n",
      "step :  9200000   loss :  16.458457946777344  x: -16.458457946777344\n",
      "step :  9300000   loss :  16.486913681030273  x: -16.486913681030273\n",
      "step :  9400000   loss :  16.584880828857422  x: -16.584880828857422\n",
      "step :  9500000   loss :  16.454532623291016  x: -16.454532623291016\n",
      "step :  9600000   loss :  16.8990478515625  x: -16.8990478515625\n",
      "step :  9700000   loss :  17.176965713500977  x: -17.176965713500977\n",
      "step :  9800000   loss :  16.944353103637695  x: -16.944353103637695\n",
      "step :  9900000   loss :  17.069684982299805  x: -17.069684982299805\n"
     ]
    }
   ],
   "source": [
    "adashift_time_steps, adashift_loss_history, adashift_x_history = \\\n",
    "                    StochLearning(optimizer_type='Adashift',lr_decay=False, max_step=10000000)"
   ]
  },
  {
   "cell_type": "code",
   "execution_count": 16,
   "metadata": {
    "scrolled": true
   },
   "outputs": [
    {
     "name": "stdout",
     "output_type": "stream",
     "text": [
      "Optimization with Adam\n",
      "step :  100000   loss :  0.06807340681552887  x: -0.06807340681552887\n",
      "step :  200000   loss :  0.1619931012392044  x: -0.1619931012392044\n",
      "step :  300000   loss :  0.20775218307971954  x: -0.20775218307971954\n",
      "step :  400000   loss :  0.2950662672519684  x: -0.2950662672519684\n",
      "step :  500000   loss :  0.49955493211746216  x: -0.49955493211746216\n",
      "step :  600000   loss :  0.35960322618484497  x: -0.35960322618484497\n",
      "step :  700000   loss :  0.13698606193065643  x: -0.13698606193065643\n",
      "step :  800000   loss :  0.09306208044290543  x: -0.09306208044290543\n",
      "step :  900000   loss :  0.31118008494377136  x: -0.31118008494377136\n",
      "step :  1000000   loss :  0.3847825825214386  x: -0.3847825825214386\n",
      "step :  1100000   loss :  0.8786011338233948  x: -0.8786011338233948\n",
      "step :  1200000   loss :  1.1681876182556152  x: -1.1681876182556152\n",
      "step :  1300000   loss :  0.8730359673500061  x: -0.8730359673500061\n",
      "step :  1400000   loss :  0.822638750076294  x: -0.822638750076294\n",
      "step :  1500000   loss :  0.9281461238861084  x: -0.9281461238861084\n",
      "step :  1600000   loss :  1.3296902179718018  x: -1.3296902179718018\n",
      "step :  1700000   loss :  1.5351674556732178  x: -1.5351674556732178\n",
      "step :  1800000   loss :  1.7130892276763916  x: -1.7130892276763916\n",
      "step :  1900000   loss :  1.4914567470550537  x: -1.4914567470550537\n",
      "step :  2000000   loss :  1.44893479347229  x: -1.44893479347229\n",
      "step :  2100000   loss :  2.014101266860962  x: -2.014101266860962\n",
      "step :  2200000   loss :  1.9071861505508423  x: -1.9071861505508423\n",
      "step :  2300000   loss :  1.8100183010101318  x: -1.8100183010101318\n",
      "step :  2400000   loss :  1.7950518131256104  x: -1.7950518131256104\n",
      "step :  2500000   loss :  2.3157715797424316  x: -2.3157715797424316\n",
      "step :  2600000   loss :  2.3540592193603516  x: -2.3540592193603516\n",
      "step :  2700000   loss :  2.2407917976379395  x: -2.2407917976379395\n",
      "step :  2800000   loss :  1.930902123451233  x: -1.930902123451233\n",
      "step :  2900000   loss :  1.9305468797683716  x: -1.9305468797683716\n",
      "step :  3000000   loss :  2.236417531967163  x: -2.236417531967163\n",
      "step :  3100000   loss :  2.2402608394622803  x: -2.2402608394622803\n",
      "step :  3200000   loss :  2.492103338241577  x: -2.492103338241577\n",
      "step :  3300000   loss :  2.530390977859497  x: -2.530390977859497\n",
      "step :  3400000   loss :  2.8786776065826416  x: -2.8786776065826416\n",
      "step :  3500000   loss :  2.9307429790496826  x: -2.9307429790496826\n",
      "step :  3600000   loss :  3.037919282913208  x: -3.037919282913208\n",
      "step :  3700000   loss :  3.0348737239837646  x: -3.0348737239837646\n",
      "step :  3800000   loss :  2.962939500808716  x: -2.962939500808716\n",
      "step :  3900000   loss :  3.1734488010406494  x: -3.1734488010406494\n",
      "step :  4000000   loss :  3.2255141735076904  x: -3.2255141735076904\n",
      "step :  4100000   loss :  3.2913572788238525  x: -3.2913572788238525\n",
      "step :  4200000   loss :  3.536310911178589  x: -3.536310911178589\n",
      "step :  4300000   loss :  3.4712655544281006  x: -3.4712655544281006\n",
      "step :  4400000   loss :  3.7093303203582764  x: -3.7093303203582764\n",
      "step :  4500000   loss :  3.5753962993621826  x: -3.5753962993621826\n",
      "step :  4600000   loss :  3.7927944660186768  x: -3.7927944660186768\n",
      "step :  4700000   loss :  4.107938289642334  x: -4.107938289642334\n",
      "step :  4800000   loss :  3.9416916370391846  x: -3.9416916370391846\n",
      "step :  4900000   loss :  3.9370853900909424  x: -3.9370853900909424\n",
      "step :  5000000   loss :  4.218910217285156  x: -4.218910217285156\n",
      "step :  5100000   loss :  4.322911262512207  x: -4.322911262512207\n",
      "step :  5200000   loss :  4.0204691886901855  x: -4.0204691886901855\n",
      "step :  5300000   loss :  4.019057750701904  x: -4.019057750701904\n",
      "step :  5400000   loss :  3.8707454204559326  x: -3.8707454204559326\n",
      "step :  5500000   loss :  4.114096641540527  x: -4.114096641540527\n",
      "step :  5600000   loss :  3.8653604984283447  x: -3.8653604984283447\n",
      "step :  5700000   loss :  4.320676803588867  x: -4.320676803588867\n",
      "step :  5800000   loss :  4.162900924682617  x: -4.162900924682617\n",
      "step :  5900000   loss :  3.96732497215271  x: -3.96732497215271\n",
      "step :  6000000   loss :  3.9719762802124023  x: -3.9719762802124023\n",
      "step :  6100000   loss :  4.231784343719482  x: -4.231784343719482\n",
      "step :  6200000   loss :  4.8180060386657715  x: -4.8180060386657715\n",
      "step :  6300000   loss :  4.839340686798096  x: -4.839340686798096\n",
      "step :  6400000   loss :  5.039785861968994  x: -5.039785861968994\n",
      "step :  6500000   loss :  5.185120105743408  x: -5.185120105743408\n",
      "step :  6600000   loss :  5.17889928817749  x: -5.17889928817749\n",
      "step :  6700000   loss :  4.931568145751953  x: -4.931568145751953\n",
      "step :  6800000   loss :  5.228457450866699  x: -5.228457450866699\n",
      "step :  6900000   loss :  5.525346755981445  x: -5.525346755981445\n",
      "step :  7000000   loss :  5.560459136962891  x: -5.560459136962891\n",
      "step :  7100000   loss :  5.657571315765381  x: -5.657571315765381\n",
      "step :  7200000   loss :  6.292015075683594  x: -6.292015075683594\n",
      "step :  7300000   loss :  6.34090518951416  x: -6.34090518951416\n",
      "step :  7400000   loss :  6.582683563232422  x: -6.582683563232422\n",
      "step :  7500000   loss :  6.865795135498047  x: -6.865795135498047\n",
      "step :  7600000   loss :  7.0937957763671875  x: -7.0937957763671875\n",
      "step :  7700000   loss :  7.4526848793029785  x: -7.4526848793029785\n",
      "step :  7800000   loss :  7.728907585144043  x: -7.728907585144043\n",
      "step :  7900000   loss :  7.970766067504883  x: -7.970766067504883\n",
      "step :  8000000   loss :  8.357670783996582  x: -8.357670783996582\n",
      "step :  8100000   loss :  8.200352668762207  x: -8.200352668762207\n",
      "step :  8200000   loss :  7.967144012451172  x: -7.967144012451172\n",
      "step :  8300000   loss :  7.699153423309326  x: -7.699153423309326\n",
      "step :  8400000   loss :  8.17545223236084  x: -8.17545223236084\n",
      "step :  8500000   loss :  8.258461952209473  x: -8.258461952209473\n",
      "step :  8600000   loss :  8.251773834228516  x: -8.251773834228516\n",
      "step :  8700000   loss :  8.174808502197266  x: -8.174808502197266\n",
      "step :  8800000   loss :  8.273990631103516  x: -8.273990631103516\n",
      "step :  8900000   loss :  8.379947662353516  x: -8.379947662353516\n",
      "step :  9000000   loss :  8.519779205322266  x: -8.519779205322266\n",
      "step :  9100000   loss :  8.903507232666016  x: -8.903507232666016\n",
      "step :  9200000   loss :  8.941715240478516  x: -8.941715240478516\n",
      "step :  9300000   loss :  9.013797760009766  x: -9.013797760009766\n",
      "step :  9400000   loss :  8.909732818603516  x: -8.909732818603516\n",
      "step :  9500000   loss :  8.954715728759766  x: -8.954715728759766\n",
      "step :  9600000   loss :  9.365543365478516  x: -9.365543365478516\n",
      "step :  9700000   loss :  9.803470611572266  x: -9.803470611572266\n",
      "step :  9800000   loss :  9.699405670166016  x: -9.699405670166016\n",
      "step :  9900000   loss :  9.554691314697266  x: -9.554691314697266\n"
     ]
    }
   ],
   "source": [
    "ams_time_steps, ams_loss_history, ams_x_history = StochLearning(alpha=lr, amsgrad=True, \n",
    "                                                                lr_decay=False, max_step=10000000)"
   ]
  },
  {
   "cell_type": "code",
   "execution_count": 23,
   "metadata": {
    "scrolled": true
   },
   "outputs": [
    {
     "data": {
      "image/png": "[encoded data removed]",
      "text/plain": [
       "<Figure size 432x288 with 1 Axes>"
      ]
     },
     "metadata": {
      "needs_background": "light"
     },
     "output_type": "display_data"
    }
   ],
   "source": [
    "plt.title(\"x optimization\")\n",
    "x = np.arange(len(adashift_x_history))\n",
    "plt.plot(xx, adashift_x_history, label='adashift')\n",
    "plt.plot(xx, x_history,label='adam')\n",
    "plt.plot(xx, ams_x_history, label='amsgrad')\n",
    "plt.legend()\n",
    "plt.xlabel(\"iterations\")\n",
    "plt.ylabel(r\"$x_t$\")\n",
    "plt.show()"
   ]
  },
  {
   "cell_type": "code",
   "execution_count": null,
   "metadata": {
    "collapsed": true
   },
   "outputs": [],
   "source": []
  }
 ],
 "metadata": {
  "kernelspec": {
   "display_name": "Python 3",
   "language": "python",
   "name": "python3"
  },
  "language_info": {
   "codemirror_mode": {
    "name": "ipython",
    "version": 3
   },
   "file_extension": ".py",
   "mimetype": "text/x-python",
   "name": "python",
   "nbconvert_exporter": "python",
   "pygments_lexer": "ipython3",
   "version": "3.5.2"
  }
 },
 "nbformat": 4,
 "nbformat_minor": 2
}
