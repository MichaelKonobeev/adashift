{
 "cells": [
  {
   "cell_type": "markdown",
   "metadata": {},
   "source": [
    "## Adam convergence problem"
   ]
  },
  {
   "cell_type": "code",
   "execution_count": 1,
   "metadata": {},
   "outputs": [],
   "source": [
    "import torch\n",
    "import matplotlib.pyplot as plt\n",
    "import numpy as np"
   ]
  },
  {
   "cell_type": "markdown",
   "metadata": {},
   "source": [
    "We will solve the online optimization problem for function  $f_t(x) = \\begin{cases} 1010x, \\text{for t mod 101} = 1 \\\\ \n",
    "-10x, otherwise \\end{cases}$\n",
    "\n",
    "Online optimization task: $ F(x) = \\sum_t f_t(x)  \\to min_x$\n",
    "\n",
    "with the constraint set $\\mathcal{F} =[-1, 1]$\n",
    "\n",
    "The analitical solution for this task is $x^*=-1$\n",
    "\n",
    "In order to understand the problems of Adam, we denote the concept of \"regret\": $R_T = \\sum\\limits_{t=1}^T f_t(x_t) - \\min\\limits_{x \\in \\mathcal{F}} \\sum\\limits_{t=1}^T f_t(x)$\n",
    "\n",
    "The regret should tend to zero during optimization, it implies that on average,\n",
    "the model’s performance converges to the optimal one."
   ]
  },
  {
   "cell_type": "code",
   "execution_count": 2,
   "metadata": {},
   "outputs": [],
   "source": [
    "loss_buffer = []"
   ]
  },
  {
   "cell_type": "code",
   "execution_count": 3,
   "metadata": {},
   "outputs": [],
   "source": [
    "import adashift.optimizers as ad_opt"
   ]
  },
  {
   "cell_type": "code",
   "execution_count": 4,
   "metadata": {},
   "outputs": [],
   "source": [
    "def online_f_t(x, t):\n",
    "    if t % 101 == 1:\n",
    "        return 1010.0*x\n",
    "    else:\n",
    "        return -10.0*x\n",
    "    \n",
    "def f_min(t):\n",
    "    if t % 101 == 1:\n",
    "        return -1010.0\n",
    "    else:\n",
    "        return 10.0"
   ]
  },
  {
   "cell_type": "code",
   "execution_count": 5,
   "metadata": {},
   "outputs": [],
   "source": [
    "def OnlineLearning(optimizer_type='Adam', start_lr=1, lr_decay=True, eps=0.,\n",
    "                   x_init=0.0, betas=(0.9, 0.99), amsgrad=False, max_step = 1000001):\n",
    "    x = torch.tensor([x_init], requires_grad=True)\n",
    "    lr = start_lr\n",
    "    if optimizer_type == \"Adam\":\n",
    "        optimizer = torch.optim.Adam([x], amsgrad=amsgrad, lr=lr, betas=betas, eps=eps)\n",
    "    else:\n",
    "        optimizer = ad_opt.AdaShift([x], lr=lr, betas=betas, eps=eps)\n",
    "    \n",
    "    \n",
    "    regret_sum = 0\n",
    "    time_steps = []\n",
    "    avg_regret_history = []\n",
    "    x_history = []\n",
    "    \n",
    "    if lr_decay:\n",
    "        lambda_lr_decay = lambda step: start_lr / np.sqrt(step + 1) \n",
    "        scheduler = torch.optim.lr_scheduler.LambdaLR(optimizer, lr_lambda=lambda_lr_decay)\n",
    "\n",
    "    for step in range(1, max_step):\n",
    "        # constraint\n",
    "        x.data = x.data.clamp(-1, 1)\n",
    "        \n",
    "        loss = online_f_t(x, step)\n",
    "\n",
    "        regret_sum += (loss.item() - f_min(step))\n",
    "        regret_avg = regret_sum / step\n",
    "    \n",
    "        loss.backward()\n",
    "        \n",
    "        x_history.append(x.item())\n",
    "\n",
    "        if step % 10000 == 0:\n",
    "            time_steps.append(step)\n",
    "            avg_regret_history.append(regret_avg)\n",
    "        if step % 50000 == 0:\n",
    "            print('step : {} loss: {} regret_avg : {} x: {}'.format(step, loss.item() , regret_avg, x.item()))\n",
    "\n",
    "        optimizer.step()\n",
    "                                \n",
    "        if lr_decay:\n",
    "            scheduler.step()\n",
    "        optimizer.zero_grad()\n",
    "                                                      \n",
    "    return time_steps, avg_regret_history, x_history"
   ]
  },
  {
   "cell_type": "code",
   "execution_count": 6,
   "metadata": {
    "scrolled": true
   },
   "outputs": [
    {
     "name": "stdout",
     "output_type": "stream",
     "text": [
      "step : 50000 loss: -9.889703750610352 regret_avg : 0.5064160437881574 x: 0.9889703989028931\n",
      "step : 100000 loss: -9.864534378051758 regret_avg : 0.4067958796649985 x: 0.9864534735679626\n",
      "step : 150000 loss: -9.865385055541992 regret_avg : 0.36496171242752423 x: 0.9865384697914124\n",
      "step : 200000 loss: -9.87474250793457 regret_avg : 0.34069642169266007 x: 0.9874742031097412\n",
      "step : 250000 loss: -9.886850357055664 regret_avg : 0.32442571966003625 x: 0.9886850118637085\n",
      "step : 300000 loss: -9.899446487426758 regret_avg : 0.3125654876726804 x: 0.9899446368217468\n",
      "step : 350000 loss: -9.911629676818848 regret_avg : 0.3034359073735933 x: 0.9911629557609558\n",
      "step : 400000 loss: -9.92305850982666 regret_avg : 0.2961329248513235 x: 0.9923058152198792\n",
      "step : 450000 loss: -9.933679580688477 regret_avg : 0.29012170080303734 x: 0.9933679699897766\n",
      "step : 500000 loss: -9.943526268005371 regret_avg : 0.2850632473994456 x: 0.9943526387214661\n",
      "step : 550000 loss: -9.952676773071289 regret_avg : 0.28073100220864133 x: 0.9952676892280579\n",
      "step : 600000 loss: -9.96122932434082 regret_avg : 0.2769671403591801 x: 0.9961228966712952\n",
      "step : 650000 loss: -9.969263076782227 regret_avg : 0.2736578810876121 x: 0.9969263076782227\n",
      "step : 700000 loss: -9.976862907409668 regret_avg : 0.2707189318623687 x: 0.9976862668991089\n",
      "step : 750000 loss: -9.984089851379395 regret_avg : 0.26808631686472645 x: 0.9984089732170105\n",
      "step : 800000 loss: -9.991005897521973 regret_avg : 0.26571048304863043 x: 0.9991006255149841\n",
      "step : 850000 loss: -9.997658729553223 regret_avg : 0.26355240032258936 x: 0.9997658729553223\n",
      "step : 900000 loss: -10.0 regret_avg : 0.2615808716960065 x: 1.0\n",
      "step : 950000 loss: -10.0 regret_avg : 0.25977061390782463 x: 1.0\n",
      "step : 1000000 loss: -10.0 regret_avg : 0.2581008655753713 x: 1.0\n"
     ]
    }
   ],
   "source": [
    "time_steps, avg_regret_history, x_history = OnlineLearning()"
   ]
  },
  {
   "cell_type": "code",
   "execution_count": 7,
   "metadata": {
    "scrolled": true
   },
   "outputs": [
    {
     "name": "stdout",
     "output_type": "stream",
     "text": [
      "step : 50000 loss: 9.866371154785156 regret_avg : 0.31438381194114684 x: -0.9866371154785156\n",
      "step : 100000 loss: 9.961386680603027 regret_avg : 0.21818181499004363 x: -0.9961386919021606\n",
      "step : 150000 loss: 9.991243362426758 regret_avg : 0.17665848134676615 x: -0.9991243481636047\n",
      "step : 200000 loss: 10.0 regret_avg : 0.1522245525431633 x: -1.0\n",
      "step : 250000 loss: 9.999848365783691 regret_avg : 0.13568643005943298 x: -0.999984860420227\n",
      "step : 300000 loss: 9.997462272644043 regret_avg : 0.12354937993208567 x: -0.9997462034225464\n",
      "step : 350000 loss: 9.993610382080078 regret_avg : 0.11415799653870719 x: -0.9993610382080078\n",
      "step : 400000 loss: 9.989237785339355 regret_avg : 0.10661422948002815 x: -0.9989237785339355\n",
      "step : 450000 loss: 9.984785079956055 regret_avg : 0.10038345542165968 x: -0.9984785318374634\n",
      "step : 500000 loss: 9.980443954467773 regret_avg : 0.09512501832294463 x: -0.9980443716049194\n",
      "step : 550000 loss: 9.976297378540039 regret_avg : 0.09061027578093789 x: -0.997629702091217\n",
      "step : 600000 loss: 9.97236156463623 regret_avg : 0.08667932328144709 x: -0.9972361326217651\n",
      "step : 650000 loss: 9.96863842010498 regret_avg : 0.08321654897909898 x: -0.996863842010498\n",
      "step : 700000 loss: 9.965115547180176 regret_avg : 0.08013601330961499 x: -0.9965115189552307\n",
      "step : 750000 loss: 9.961771011352539 regret_avg : 0.07737232915560405 x: -0.996177077293396\n",
      "step : 800000 loss: 9.95859432220459 regret_avg : 0.07487475787103176 x: -0.9958594441413879\n",
      "step : 850000 loss: 9.955567359924316 regret_avg : 0.0726032391609865 x: -0.9955567121505737\n",
      "step : 900000 loss: 9.952668190002441 regret_avg : 0.07052566968546974 x: -0.995266854763031\n",
      "step : 950000 loss: 9.949888229370117 regret_avg : 0.06861598064071253 x: -0.9949888586997986\n",
      "step : 1000000 loss: 9.947218894958496 regret_avg : 0.066852753926754 x: -0.9947218894958496\n"
     ]
    }
   ],
   "source": [
    "amsgrad_time_steps, amsgrad_avg_regret_history, amsgrad_x_history = OnlineLearning(amsgrad=True)"
   ]
  },
  {
   "cell_type": "code",
   "execution_count": 8,
   "metadata": {},
   "outputs": [
    {
     "name": "stdout",
     "output_type": "stream",
     "text": [
      "step : 50000 loss: -9.65464973449707 regret_avg : 0.5204434230518341 x: 0.9654649496078491\n",
      "step : 100000 loss: -9.76864242553711 regret_avg : 0.4226181678247452 x: 0.976864218711853\n",
      "step : 150000 loss: -9.821847915649414 regret_avg : 0.3800128746064504 x: 0.9821847677230835\n",
      "step : 200000 loss: -9.85526180267334 regret_avg : 0.35483106342077253 x: 0.9855261445045471\n",
      "step : 250000 loss: -9.879294395446777 regret_avg : 0.3377391733531952 x: 0.9879294037818909\n",
      "step : 300000 loss: -9.898001670837402 regret_avg : 0.3251710242509842 x: 0.9898001551628113\n",
      "step : 350000 loss: -9.913345336914062 regret_avg : 0.3154315921660832 x: 0.9913344979286194\n",
      "step : 400000 loss: -9.926398277282715 regret_avg : 0.30759905756115913 x: 0.9926398396492004\n",
      "step : 450000 loss: -9.93781566619873 regret_avg : 0.3011235512998369 x: 0.993781566619873\n",
      "step : 500000 loss: -9.948019027709961 regret_avg : 0.2956541783056259 x: 0.994801938533783\n",
      "step : 550000 loss: -9.95728874206543 regret_avg : 0.29095510620203885 x: 0.9957288503646851\n",
      "step : 600000 loss: -9.96583366394043 regret_avg : 0.28686122787714 x: 0.9965834021568298\n",
      "step : 650000 loss: -9.973797798156738 regret_avg : 0.2832530477487124 x: 0.9973797798156738\n",
      "step : 700000 loss: -9.981297492980957 regret_avg : 0.28004166331904273 x: 0.9981297850608826\n",
      "step : 750000 loss: -9.988409996032715 regret_avg : 0.2771593943424225 x: 0.9988409876823425\n",
      "step : 800000 loss: -9.99521255493164 regret_avg : 0.2745536782151461 x: 0.9995212554931641\n",
      "step : 850000 loss: -10.0 regret_avg : 0.2721829970544927 x: 1.0\n",
      "step : 900000 loss: -10.0 regret_avg : 0.2700140814224879 x: 1.0\n",
      "step : 950000 loss: -10.0 regret_avg : 0.26801988569610996 x: 1.0\n",
      "step : 1000000 loss: -10.0 regret_avg : 0.2661781712851524 x: 1.0\n"
     ]
    }
   ],
   "source": [
    "adashift_time_steps, adashift_avg_regret_history, adashift_x_history = OnlineLearning(optimizer_type='Adashift') "
   ]
  },
  {
   "cell_type": "markdown",
   "metadata": {},
   "source": [
    "Regret should tend to zero. As we can see it is done only for amsgrad."
   ]
  },
  {
   "cell_type": "code",
   "execution_count": 15,
   "metadata": {},
   "outputs": [
    {
     "data": {
      "image/png": "[encoded data removed]",
      "text/plain": [
       "<Figure size 432x288 with 1 Axes>"
      ]
     },
     "metadata": {},
     "output_type": "display_data"
    }
   ],
   "source": [
    "plt.title(\"Regret\")\n",
    "plt.plot(np.linspace(1, 1000001, 100), adashift_avg_regret_history, label='adashift')\n",
    "plt.plot(np.linspace(1, 1000001, 100), avg_regret_history,label='adam')\n",
    "plt.plot(np.linspace(1, 1000001, 100), amsgrad_avg_regret_history,label='amsgrad')\n",
    "plt.xlabel(\"iterations\")\n",
    "plt.ylabel(r\"$\\dfrac{R_t}{t}$\")\n",
    "plt.legend()\n",
    "plt.show()"
   ]
  },
  {
   "cell_type": "code",
   "execution_count": 16,
   "metadata": {},
   "outputs": [
    {
     "data": {
      "image/png": "[encoded data removed]",
      "text/plain": [
       "<Figure size 432x288 with 1 Axes>"
      ]
     },
     "metadata": {},
     "output_type": "display_data"
    }
   ],
   "source": [
    "plt.title(\"Optimal x\")\n",
    "plt.plot(adashift_x_history, label='adashift')\n",
    "plt.plot(x_history,label='adam')\n",
    "plt.plot(amsgrad_x_history,label='amsgrad')\n",
    "plt.legend()\n",
    "plt.xlabel(\"iterations\")\n",
    "plt.ylabel(r\"$x_t$\")\n",
    "plt.show()"
   ]
  },
  {
   "cell_type": "markdown",
   "metadata": {},
   "source": [
    "Let's see on the similar task, but with stochasticity.\n",
    "\n",
    "$\\delta = 0.002$\n",
    "C = 101\n",
    "\n",
    "$f_t(x) = \\begin{cases} Cx, \\text{with p } =\\frac{1+\\delta}{C+1} \\\\ \n",
    "-x, otherwise \\end{cases}$\n",
    "\n",
    "Cost function is $\\delta x$"
   ]
  },
  {
   "cell_type": "code",
   "execution_count": 82,
   "metadata": {
    "collapsed": true
   },
   "outputs": [],
   "source": [
    "delta = 0.02\n",
    "C = 101\n",
    "p = (1+delta)/(C + 1)\n",
    "\n",
    "def stoch_f_t(x, t):\n",
    "    if np.random.binomial(1,p):\n",
    "        return C*x\n",
    "    else:\n",
    "        return -x\n",
    "    \n",
    "\n",
    "def domain_constraints(x):\n",
    "    if x > 1.0:\n",
    "        return x_max\n",
    "    if x < -1.0:\n",
    "        return x_min\n",
    "    return x\n",
    "\n",
    "def cost_f(x):\n",
    "    return delta*x"
   ]
  },
  {
   "cell_type": "code",
   "execution_count": 83,
   "metadata": {
    "collapsed": true
   },
   "outputs": [],
   "source": [
    "def StochLearning(optimizer_type='Adam',learning_rate=1e-3, amsgrad=False, max_step = 1000001, betas=(0.0, 0.99)):\n",
    "    x = torch.tensor([0.5], requires_grad=True)\n",
    "    if optimizer_type == \"Adam\":\n",
    "        optimizer = torch.optim.Adam([x], lr=learning_rate, betas=betas, eps=1e-8, amsgrad=amsgrad)\n",
    "    else:\n",
    "        optimizer = ad_opt.AdaShift([x], lr=learning_rate, betas=betas, eps=1e-8)\n",
    "    regret_sum = 0\n",
    "    time_steps = []\n",
    "    avg_regret_history = []\n",
    "    x_history = []\n",
    "    loss_history = []\n",
    "    print(\"Optimization with {}\".format(optimizer_type))\n",
    "    for step in range(1, max_step):\n",
    "        #x = domain_constraints(x)\n",
    "        x.data = domain_constraints(x).data\n",
    "        loss = stoch_f_t(x, step)\n",
    "    \n",
    "        optimizer.zero_grad()\n",
    "        loss.backward()\n",
    "#         x_history.append(cost_f(x).item())\n",
    "        x_history.append(x.item())\n",
    "        loss_history.append(loss.item())\n",
    "        time_steps.append(step)\n",
    "\n",
    "        if step % 15000 == 0:\n",
    "            print ('step : ',step, '  loss : ',loss.item(), ' x:', x.item() )\n",
    "        \n",
    "        optimizer.step()   \n",
    "    return time_steps, loss_history, x_history"
   ]
  },
  {
   "cell_type": "code",
   "execution_count": 84,
   "metadata": {},
   "outputs": [
    {
     "name": "stdout",
     "output_type": "stream",
     "text": [
      "Optimization with Adam\n",
      "step :  15000   loss :  -1.768214464187622  x: 1.768214464187622\n",
      "step :  30000   loss :  -2.734755754470825  x: 2.734755754470825\n",
      "step :  45000   loss :  -3.6636345386505127  x: 3.6636345386505127\n",
      "step :  60000   loss :  -4.710565090179443  x: 4.710565090179443\n",
      "step :  75000   loss :  -5.6462016105651855  x: 5.6462016105651855\n",
      "step :  90000   loss :  -6.377190589904785  x: 6.377190589904785\n"
     ]
    }
   ],
   "source": [
    "lr = 1e-3\n",
    "time_steps, loss_history, x_history = StochLearning(learning_rate=lr,max_step=100000)"
   ]
  },
  {
   "cell_type": "code",
   "execution_count": 85,
   "metadata": {
    "scrolled": false
   },
   "outputs": [
    {
     "name": "stdout",
     "output_type": "stream",
     "text": [
      "Optimization with Adashift\n",
      "step :  15000   loss :  -1.5352106094360352  x: 1.5352106094360352\n",
      "step :  30000   loss :  221.4011688232422  x: 2.1920907497406006\n",
      "step :  45000   loss :  270.8948669433594  x: 2.6821274757385254\n",
      "step :  60000   loss :  -3.746302604675293  x: 3.746302604675293\n",
      "step :  75000   loss :  -4.82081413269043  x: 4.82081413269043\n",
      "step :  90000   loss :  608.5982055664062  x: 6.0257248878479\n"
     ]
    }
   ],
   "source": [
    "adashift_time_steps, adashift_loss_history, adashift_x_history = StochLearning(learning_rate=lr, optimizer_type='Adashift',max_step=100000)"
   ]
  },
  {
   "cell_type": "code",
   "execution_count": 86,
   "metadata": {},
   "outputs": [
    {
     "name": "stdout",
     "output_type": "stream",
     "text": [
      "Optimization with Adashift\n",
      "step :  15000   loss :  -1.4298229217529297  x: 1.4298229217529297\n",
      "step :  30000   loss :  -2.3199448585510254  x: 2.3199448585510254\n",
      "step :  45000   loss :  -3.200026273727417  x: 3.200026273727417\n",
      "step :  60000   loss :  -4.207965850830078  x: 4.207965850830078\n",
      "step :  75000   loss :  -4.705874443054199  x: 4.705874443054199\n",
      "step :  90000   loss :  -5.31606388092041  x: 5.31606388092041\n"
     ]
    }
   ],
   "source": [
    "ams_time_steps, ams_loss_history, ams_x_history = StochLearning(learning_rate=lr, amsgrad=True, max_step=100000)"
   ]
  },
  {
   "cell_type": "code",
   "execution_count": 87,
   "metadata": {
    "scrolled": true
   },
   "outputs": [
    {
     "data": {
      "image/png": "[encoded data removed]",
      "text/plain": [
       "<Figure size 432x288 with 1 Axes>"
      ]
     },
     "metadata": {
      "needs_background": "light"
     },
     "output_type": "display_data"
    }
   ],
   "source": [
    "plt.title(\"x optimization\")\n",
    "plt.plot(adashift_x_history, label='adashift')\n",
    "plt.plot(x_history,label='adam')\n",
    "plt.plot(ams_x_history, label='amsgrad')\n",
    "plt.legend()\n",
    "plt.xlabel(\"iterations\")\n",
    "plt.ylabel(r\"$x_t$\")\n",
    "plt.show()"
   ]
  },
  {
   "cell_type": "code",
   "execution_count": 90,
   "metadata": {},
   "outputs": [
    {
     "data": {
      "image/png": "[encoded data removed]",
      "text/plain": [
       "<Figure size 432x288 with 1 Axes>"
      ]
     },
     "metadata": {
      "needs_background": "light"
     },
     "output_type": "display_data"
    }
   ],
   "source": [
    "plt.title(\"x optimization\")\n",
    "plt.plot(adashift_loss_history, label='adashift')\n",
    "plt.plot(loss_history,label='adam')\n",
    "plt.plot(ams_loss_history, label='amsgrad')\n",
    "plt.legend()\n",
    "plt.xlabel(\"iterations\")\n",
    "plt.ylabel(r\"$x_t$\")\n",
    "plt.show()"
   ]
  },
  {
   "cell_type": "code",
   "execution_count": null,
   "metadata": {
    "collapsed": true
   },
   "outputs": [],
   "source": []
  }
 ],
 "metadata": {
  "kernelspec": {
   "display_name": "Python 3",
   "language": "python",
   "name": "python3"
  },
  "language_info": {
   "codemirror_mode": {
    "name": "ipython",
    "version": 3
   },
   "file_extension": ".py",
   "mimetype": "text/x-python",
   "name": "python",
   "nbconvert_exporter": "python",
   "pygments_lexer": "ipython3",
   "version": "3.6.4"
  }
 },
 "nbformat": 4,
 "nbformat_minor": 2
}
