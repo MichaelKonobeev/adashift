{
 "cells": [
  {
   "cell_type": "markdown",
   "metadata": {},
   "source": [
    "## Adam vs Adashift: Logistic Regression on MNIST"
   ]
  },
  {
   "cell_type": "code",
   "execution_count": null,
   "metadata": {},
   "outputs": [],
   "source": [
    "import torch\n",
    "from torch import nn\n",
    "\n",
    "import matplotlib.pyplot as plt\n",
    "import numpy as np\n",
    "from scipy.signal import savgol_filter\n",
    "\n",
    "import adashift.optimizers as ad_opt\n",
    "\n",
    "import torchvision\n",
    "import torchvision.transforms as transforms\n",
    "from torch.nn import functional as F"
   ]
  },
  {
   "cell_type": "code",
   "execution_count": null,
   "metadata": {},
   "outputs": [],
   "source": [
    "input_size = 784\n",
    "num_classes = 10\n",
    "num_epochs = 200\n",
    "batch_size = 64\n",
    "\n",
    "train_dataset = torchvision.datasets.MNIST(root='data', \n",
    "                                           train=True, \n",
    "                                           download=True,\n",
    "                                           transform=transforms.Compose([\n",
    "                                           transforms.ToTensor(),\n",
    "                                           transforms.Normalize((0.1307,), (0.3081,))]))\n",
    "\n",
    "test_dataset = torchvision.datasets.MNIST(root='data', \n",
    "                                          train=False, \n",
    "                                          transform=transforms.Compose([\n",
    "                                           transforms.ToTensor(),\n",
    "                                           transforms.Normalize((0.1307,), (0.3081,))]))\n",
    "\n",
    "train_loader = torch.utils.data.DataLoader(dataset=train_dataset, \n",
    "                                           batch_size=batch_size, \n",
    "                                           shuffle=True)\n",
    "\n",
    "test_loader = torch.utils.data.DataLoader(dataset=test_dataset, \n",
    "                                          batch_size=batch_size, \n",
    "                                          shuffle=False)"
   ]
  },
  {
   "cell_type": "code",
   "execution_count": null,
   "metadata": {},
   "outputs": [],
   "source": [
    "import torch.nn as nn\n",
    "\n",
    "device = torch.device('cuda')\n",
    "\n",
    "model = nn.Linear(input_size, num_classes).to(device)\n",
    "\n",
    "criterion = nn.CrossEntropyLoss()"
   ]
  },
  {
   "cell_type": "code",
   "execution_count": null,
   "metadata": {},
   "outputs": [],
   "source": [
    "def train(model, device, train_loader, optimizer, num_epochs, criterion, display_iter=1000):\n",
    "    model.train()\n",
    "    train_loss_hist = []\n",
    "    test_acc_hist = []\n",
    "    test_loss_hist = []\n",
    "    \n",
    "    test_loss, test_acc = test(model, device, test_loader, criterion)\n",
    "    test_loss_hist.append(test_loss)\n",
    "    test_acc_hist.append(test_acc)\n",
    "    \n",
    "    for epoch in range(num_epochs):  \n",
    "        for batch_idx, (data, target) in enumerate(train_loader):\n",
    "            data, target = data.to(device), target.to(device)\n",
    "            optimizer.zero_grad()\n",
    "            output = model(data.reshape(-1, 28*28))\n",
    "            loss = criterion(output, target)\n",
    "            train_loss_hist.append(loss.item())\n",
    "            loss.backward()\n",
    "            optimizer.step()\n",
    "            \n",
    "            if batch_idx % 100 == 0:\n",
    "                test_loss, test_acc = test(model, device, test_loader, criterion)\n",
    "                test_loss_hist.append(test_loss)\n",
    "                test_acc_hist.append(test_acc)\n",
    "\n",
    "            if batch_idx % display_iter == 0:\n",
    "                print('Train Epoch: {} TrainLoss: {:.6f}'.format(\n",
    "                    epoch, loss.item()))\n",
    "\n",
    "                print('Test set:       TestLoss:  {:.4f}, Accuracy: {:.0f}%'.format(\n",
    "                    test_loss_hist[-1], test_acc_hist[-1]))\n",
    "\n",
    "    return train_loss_hist, test_loss_hist, test_acc_hist\n",
    "\n",
    "def test(model, device, test_loader, criterion):\n",
    "    model.eval()\n",
    "    test_loss = 0\n",
    "    correct = 0\n",
    "    with torch.no_grad():\n",
    "        for data, target in test_loader:\n",
    "            data, target = data.to(device), target.to(device)\n",
    "            output = model(data.reshape(-1, 28*28))\n",
    "            test_loss += criterion(output, target).item() # sum up batch loss\n",
    "            pred = output.max(1, keepdim=True)[1] # get the index of the max log-probability\n",
    "            correct += pred.eq(target.view_as(pred)).sum().item()\n",
    "\n",
    "    test_loss /= len(test_loader.dataset)\n",
    "    acc = 100. * correct / len(test_loader.dataset)\n",
    "    return test_loss, acc"
   ]
  },
  {
   "cell_type": "markdown",
   "metadata": {},
   "source": [
    "**Adam**"
   ]
  },
  {
   "cell_type": "code",
   "execution_count": null,
   "metadata": {},
   "outputs": [],
   "source": [
    "adam_optimizer = torch.optim.Adam(model.parameters(), lr=0.001,\\\n",
    "                             betas=(0.0, 0.999), eps=1e-8, weight_decay=0)\n",
    "\n",
    "adam_train_loss_hist, adam_test_loss_hist, adam_test_acc_hist = \\\n",
    "                            train(model, device, train_loader, adam_optimizer, 200, criterion)                "
   ]
  },
  {
   "cell_type": "markdown",
   "metadata": {},
   "source": [
    "**AmsGrad**"
   ]
  },
  {
   "cell_type": "code",
   "execution_count": null,
   "metadata": {},
   "outputs": [],
   "source": [
    "model = nn.Linear(input_size, num_classes).cuda()\n",
    "\n",
    "amsgrad_optimizer = torch.optim.Adam(model.parameters(), lr=1e-3,\\\n",
    "                             betas=(0.0, 0.999), eps=1e-8, weight_decay=0,amsgrad=True)\n",
    "\n",
    "amsgrad_train_loss_hist, amsgrad_test_loss_hist, amsgrad_test_acc_hist = \\\n",
    "                            train(model, device, train_loader, amsgrad_optimizer, 200, criterion) "
   ]
  },
  {
   "cell_type": "markdown",
   "metadata": {},
   "source": [
    "**max-Adashift**"
   ]
  },
  {
   "cell_type": "code",
   "execution_count": null,
   "metadata": {},
   "outputs": [],
   "source": [
    "model = nn.Linear(input_size, num_classes).cuda()\n",
    "\n",
    "adashift_optimizer = ad_opt.AdaShift(model.parameters(), lr=1e-2,\\\n",
    "                             betas=(0.0, 0.999), eps=1e-8)\n",
    "\n",
    "adashift_train_loss_hist, adashift_test_loss_hist, adashift_test_acc_hist = \\\n",
    "                            train(model, device, train_loader, adashift_optimizer, 200, criterion) "
   ]
  },
  {
   "cell_type": "markdown",
   "metadata": {},
   "source": [
    "**non-Adashift**"
   ]
  },
  {
   "cell_type": "code",
   "execution_count": null,
   "metadata": {},
   "outputs": [],
   "source": [
    "model = nn.Linear(input_size, num_classes).cuda()\n",
    "\n",
    "non_adashift_optimizer = ad_opt.AdaShift(model.parameters(), lr=1e-3,\\\n",
    "                             betas=(0.0, 0.999), eps=1e-8, reduce_func=lambda x: x)\n",
    "\n",
    "non_adashift_train_loss_hist, non_adashift_test_loss_hist, non_adashift_test_acc_hist = \\\n",
    "                            train(model, device, train_loader, non_adashift_optimizer, 200, criterion) "
   ]
  },
  {
   "cell_type": "code",
   "execution_count": null,
   "metadata": {},
   "outputs": [],
   "source": [
    "def save_as_npy(name, array):\n",
    "    np_array = np.array([i for i in array]) \n",
    "    np.save('logs/log_reg/' + name, np_array)\n",
    "    return np_array"
   ]
  },
  {
   "cell_type": "code",
   "execution_count": null,
   "metadata": {},
   "outputs": [],
   "source": []
  },
  {
   "cell_type": "code",
   "execution_count": null,
   "metadata": {},
   "outputs": [],
   "source": [
    "adam_train_loss_hist = save_as_npy('adam_train_loss_hist', adam_train_loss_hist)\n",
    "amsgrad_train_loss_hist = save_as_npy('amsgrad_train_loss_hist', amsgrad_train_loss_hist)\n",
    "adashift_train_loss_hist = save_as_npy('adashift_train_loss_hist', adashift_train_loss_hist)\n",
    "non_adashift_train_loss_hist = save_as_npy('non_adashift_train_loss_hist', non_adashift_train_loss_hist)\n",
    "\n",
    "adam_test_loss_hist = save_as_npy('adam_test_loss_hist', adam_test_loss_hist)\n",
    "amsgrad_test_loss_hist = save_as_npy('amsgrad_test_loss_hist', amsgrad_test_loss_hist)\n",
    "adashift_test_loss_hist = save_as_npy('adashift_test_loss_hist', adashift_test_loss_hist)\n",
    "non_adashift_test_loss_hist = save_as_npy('non_adashift_test_loss_hist', non_adashift_test_loss_hist)\n",
    "\n",
    "adam_test_acc_hist = save_as_npy('adam_test_acc_hist', adam_test_acc_hist)\n",
    "amsgrad_test_acc_hist = save_as_npy('amsgrad_test_acc_hist', amsgrad_test_acc_hist)\n",
    "adashift_test_acc_hist = save_as_npy('adashift_test_acc_hist', adashift_test_acc_hist)\n",
    "non_adashift_test_acc_hist = save_as_npy('non_adashift_test_acc_hist', non_adashift_test_acc_hist)"
   ]
  },
  {
   "cell_type": "code",
   "execution_count": null,
   "metadata": {},
   "outputs": [],
   "source": [
    "plt.title(\"MNIST: logistic regression\\n Train loss, 1000 iterations\")\n",
    "#np.linspace(0, 1000000, 100),0\n",
    "plt.plot(adam_train_loss_hist[:1000], label=\"adam\")\n",
    "plt.plot(amsgrad_train_loss_hist[:1000], label=\"amsgrad\")\n",
    "plt.plot(adashift_train_loss_hist[:1000], label=\"max-adashift\")\n",
    "plt.plot(adashift_train_loss_hist[:1000], label=\"non-adashift\")\n",
    "\n",
    "plt.legend(loc='best')\n",
    "plt.show()"
   ]
  },
  {
   "attachments": {
    "image.png": {
     "image/png": "[encoded data removed]"
    }
   },
   "cell_type": "markdown",
   "metadata": {},
   "source": [
    "![image.png](attachment:image.png)"
   ]
  },
  {
   "cell_type": "code",
   "execution_count": null,
   "metadata": {},
   "outputs": [],
   "source": [
    "def smooth(y,box_size,smooth_start=0):\n",
    "    # borrowed from authors code\n",
    "    y_hat=np.zeros(y.shape,dtype=y.dtype)\n",
    "    y_hat[0:smooth_start]=y[0:smooth_start]\n",
    "    for i in range(smooth_start,y.size):\n",
    "        if i < smooth_start+box_size//2:\n",
    "            y_hat[i]=np.mean(y[smooth_start:i+box_size//2])\n",
    "        elif i<y.size-box_size//2:\n",
    "            y_hat[i]=np.mean(y[i-box_size//2:i+box_size//2])\n",
    "        else:\n",
    "            y_hat[i]=np.mean(y[i-box_size//2:])\n",
    "    return y_hat"
   ]
  },
  {
   "cell_type": "code",
   "execution_count": null,
   "metadata": {},
   "outputs": [],
   "source": [
    "smooth_size=1000\n",
    "smooth_start_train_loss=3\n",
    "issmooth=1"
   ]
  },
  {
   "cell_type": "code",
   "execution_count": null,
   "metadata": {},
   "outputs": [],
   "source": [
    "plt.title(\"MNIST: logistic regression\\n Smoothed train loss\")\n",
    "plt.plot(smooth(adam_train_loss_hist, smooth_size, smooth_start_train_loss), label=\"adam\")\n",
    "plt.plot(smooth(amsgrad_train_loss_hist, smooth_size, smooth_start_train_loss), label=\"amsgrad\")\n",
    "plt.plot(smooth(adashift_train_loss_hist, smooth_size, smooth_start_train_loss), label=\"max-adashift\")\n",
    "plt.plot(smooth(non_adashift_train_loss_hist, smooth_size, smooth_start_train_loss), label=\"non-adashift\")\n",
    "\n",
    "plt.legend(loc='best')\n",
    "plt.show()\n",
    "\n",
    "plt.title(\"MNIST: logistic regression\\n Smoothed train loss, 10000 iterations\")\n",
    "\n",
    "plt.plot(smooth(adam_train_loss_hist[:10000], smooth_size, smooth_start_train_loss), label=\"adam\")\n",
    "plt.plot(smooth(amsgrad_train_loss_hist[:10000], smooth_size, smooth_start_train_loss), label=\"amsgrad\")\n",
    "plt.plot(smooth(adashift_train_loss_hist[:10000], smooth_size, smooth_start_train_loss), label=\"max-adashift\")\n",
    "plt.plot(smooth(non_adashift_train_loss_hist[:10000], smooth_size, smooth_start_train_loss), label=\"non-adashift\")\n",
    "\n",
    "plt.legend(loc='best')\n",
    "plt.show()"
   ]
  },
  {
   "cell_type": "code",
   "execution_count": null,
   "metadata": {},
   "outputs": [],
   "source": [
    "plt.title(\"MNIST: logistic regression\\n Test loss\")\n",
    "plt.plot(adam_test_loss_hist, label=\"adam\")\n",
    "plt.plot(amsgrad_test_loss_hist, label=\"amsgrad\")\n",
    "plt.plot(adashift_test_loss_hist, label=\"max-adashift\")\n",
    "plt.plot(non_adashift_test_loss_hist, label=\"non-adashift\")\n",
    "\n",
    "plt.legend(loc='best')\n",
    "plt.show()"
   ]
  },
  {
   "cell_type": "markdown",
   "metadata": {},
   "source": [
    "## MLP"
   ]
  },
  {
   "cell_type": "code",
   "execution_count": null,
   "metadata": {},
   "outputs": [],
   "source": [
    "import torch\n",
    "from torch import nn\n",
    "import matplotlib.pyplot as plt\n",
    "import numpy as np"
   ]
  },
  {
   "cell_type": "code",
   "execution_count": null,
   "metadata": {},
   "outputs": [],
   "source": [
    "class MultiLayerPerceptron(nn.Module):\n",
    "    def __init__(self, input_size, hidden_size, num_classes):\n",
    "        super(MultiLayerPerceptron, self).__init__()\n",
    "        self.fc1 = nn.Linear(input_size, hidden_size) \n",
    "        self.fc2 = nn.Linear(hidden_size, hidden_size)  \n",
    "        self.fc3 = nn.Linear(hidden_size, num_classes) \n",
    "        \n",
    "        with torch.no_grad():\n",
    "            for p in self.parameters():\n",
    "                p.data = torch.tensor(np.random.randn(*p.shape).astype(np.float32))\n",
    "    \n",
    "    def forward(self, x):\n",
    "        out = self.fc1(x)\n",
    "        out = self.fc2(out)\n",
    "        out = self.fc3(out)\n",
    "#         return F.log_softmax(out, dim=1)\n",
    "        return out"
   ]
  },
  {
   "cell_type": "code",
   "execution_count": null,
   "metadata": {},
   "outputs": [],
   "source": [
    "hidden_size = 256\n",
    "criterion = nn.CrossEntropyLoss()"
   ]
  },
  {
   "cell_type": "code",
   "execution_count": null,
   "metadata": {},
   "outputs": [],
   "source": [
    "model = MultiLayerPerceptron(input_size, hidden_size, num_classes).to(device)\n",
    "\n",
    "adam_optimizer = torch.optim.Adam(model.parameters(), lr=0.001,\\\n",
    "                             betas=(0.0, 0.999), eps=1e-8, weight_decay=0)\n",
    "\n",
    "adam_train_loss_hist_mlp, adam_test_loss_hist_mlp, adam_test_acc_hist_mlp = \\\n",
    "                            train(model, device, train_loader, adam_optimizer, 60, criterion)                "
   ]
  },
  {
   "cell_type": "code",
   "execution_count": null,
   "metadata": {},
   "outputs": [],
   "source": [
    "model = MultiLayerPerceptron(input_size, hidden_size, num_classes).to(device)\n",
    "\n",
    "amsgrad_optimizer = torch.optim.Adam(model.parameters(), lr=1e-3,\\\n",
    "                             betas=(0.0, 0.999), eps=1e-8, weight_decay=0,amsgrad=True)\n",
    "\n",
    "amsgrad_train_loss_hist_mlp, amsgrad_test_loss_hist_mlp, amsgrad_test_acc_hist_mlp = \\\n",
    "                            train(model, device, train_loader, amsgrad_optimizer, 60, criterion)               "
   ]
  },
  {
   "cell_type": "code",
   "execution_count": null,
   "metadata": {},
   "outputs": [],
   "source": [
    "from adashift.optimizers import AdaShift"
   ]
  },
  {
   "cell_type": "code",
   "execution_count": null,
   "metadata": {},
   "outputs": [],
   "source": [
    "model = MultiLayerPerceptron(input_size, hidden_size, num_classes).to(device)\n",
    "\n",
    "adashift_optimizer = AdaShift(model.parameters(), lr=1e-2,\\\n",
    "                             betas=(0.0, 0.999), eps=1e-8)\n",
    "\n",
    "adashift_train_loss_hist_mlp, adashift_test_loss_hist_mlp, adashift_test_acc_hist_mlp = \\\n",
    "                            train(model, device, train_loader, adashift_optimizer, 60, criterion) "
   ]
  },
  {
   "cell_type": "code",
   "execution_count": null,
   "metadata": {},
   "outputs": [],
   "source": [
    "model = MultiLayerPerceptron(input_size, hidden_size, num_classes).to(device)\n",
    "\n",
    "amsgrad_optimizer = torch.optim.Adam(model.parameters(), lr=1e-3,\\\n",
    "                             betas=(0.0, 0.999), eps=1e-8, weight_decay=0,amsgrad=True)\n",
    "\n",
    "amsgrad_train_loss_hist_mlp, amsgrad_test_loss_hist_mlp, amsgrad_test_acc_hist_mlp =\\\n",
    "        train(model, device, train_loader, amsgrad_optimizer, 60, criterion)               "
   ]
  },
  {
   "cell_type": "code",
   "execution_count": null,
   "metadata": {},
   "outputs": [],
   "source": [
    "model = MultiLayerPerceptron(input_size, hidden_size, num_classes).to(device)\n",
    "\n",
    "non_adashift_optimizer = AdaShift(model.parameters(), lr=1e-3,\\\n",
    "                             betas=(0.0, 0.999), eps=1e-8, reduce_func=lambda x: x)\n",
    "\n",
    "non_adashift_train_loss_hist_mlp, non_adashift_test_loss_hist_mlp, non_adashift_test_acc_hist_mlp = \\\n",
    "                            train(model, device, train_loader, non_adashift_optimizer, 60, criterion) "
   ]
  },
  {
   "cell_type": "code",
   "execution_count": null,
   "metadata": {},
   "outputs": [],
   "source": [
    "adam_train_loss_hist_mlp = save_as_npy('adam_train_loss_hist_mlp', adam_train_loss_hist_mlp)\n",
    "amsgrad_train_loss_hist_mlp = save_as_npy('amsgrad_train_loss_hist_mlp', amsgrad_train_loss_hist_mlp)\n",
    "adashift_train_loss_hist_mlp = save_as_npy('adashift_train_loss_hist_mlp', adashift_train_loss_hist_mlp)\n",
    "non_adashift_train_loss_hist_mlp = save_as_npy('non_adashift_train_loss_hist_mlp', non_adashift_train_loss_hist_mlp)\n",
    "\n",
    "adam_test_loss_hist_mlp = save_as_npy('adam_test_loss_hist_mlp', adam_test_loss_hist_mlp)\n",
    "amsgrad_test_loss_hist_mlp = save_as_npy('amsgrad_test_loss_hist_mlp', amsgrad_test_loss_hist_mlp)\n",
    "adashift_test_loss_hist_mlp = save_as_npy('adashift_test_loss_hist_mlp', adashift_test_loss_hist_mlp)\n",
    "non_adashift_test_loss_hist_mlp = save_as_npy('non_adashift_test_loss_hist_mlp', non_adashift_test_loss_hist_mlp)\n",
    "\n",
    "adam_test_acc_hist_mlp = save_as_npy('adam_test_acc_hist_mlp', adam_test_acc_hist_mlp)\n",
    "amsgrad_test_acc_hist_mlp = save_as_npy('amsgrad_test_acc_hist_mlp', amsgrad_test_acc_hist_mlp)\n",
    "adashift_test_acc_hist_mlp = save_as_npy('adashift_test_acc_hist_mlp', adashift_test_acc_hist_mlp)\n",
    "non_adashift_test_acc_hist_mlp = save_as_npy('non_adashift_test_acc_hist_mlp', non_adashift_test_acc_hist_mlp)"
   ]
  },
  {
   "cell_type": "code",
   "execution_count": null,
   "metadata": {},
   "outputs": [],
   "source": [
    "smooth_size = 100\n",
    "plt.title(\"MNIST: multilayer perceptron\\n Smoothed train loss\")\n",
    "plt.plot(smooth(adam_train_loss_hist_mlp, smooth_size, smooth_start_train_loss), label=\"adam\")\n",
    "plt.plot(smooth(amsgrad_train_loss_hist_mlp, smooth_size, smooth_start_train_loss), label=\"amsgrad\")\n",
    "plt.plot(smooth(adashift_train_loss_hist_mlp, smooth_size, smooth_start_train_loss), label=\"max-adashift\")\n",
    "plt.plot(smooth(non_adashift_train_loss_hist_mlp, smooth_size, smooth_start_train_loss), label=\"non-adashift\")\n",
    "plt.ylim((0, 500))\n",
    "\n",
    "plt.legend(loc='best')\n",
    "plt.show()\n",
    "\n",
    "plt.title(\"MNIST: multilayer perceptron\\n Smoothed train loss, 10000 iterations\")\n",
    "\n",
    "plt.plot(smooth(adam_train_loss_hist_mlp[:10000], smooth_size, smooth_start_train_loss), label=\"adam\")\n",
    "plt.plot(smooth(amsgrad_train_loss_hist_mlp[:10000], smooth_size, smooth_start_train_loss), label=\"amsgrad\")\n",
    "plt.plot(smooth(adashift_train_loss_hist_mlp[:10000], smooth_size, smooth_start_train_loss), label=\"max-adashift\")\n",
    "plt.plot(smooth(non_adashift_train_loss_hist_mlp[:10000], smooth_size, smooth_start_train_loss), label=\"non-adashift\")\n",
    "plt.ylim((0, 500))\n",
    "\n",
    "plt.legend(loc='best')\n",
    "plt.show()"
   ]
  },
  {
   "cell_type": "code",
   "execution_count": null,
   "metadata": {},
   "outputs": [],
   "source": [
    "plt.title(\"MNIST: multilayer perceptron\\n Test loss\")\n",
    "plt.semilogy(adam_test_loss_hist_mlp, label=\"adam\")\n",
    "plt.semilogy(amsgrad_test_loss_hist_mlp, label=\"amsgrad\")\n",
    "plt.semilogy(adashift_test_loss_hist_mlp, label=\"max-adashift\")\n",
    "plt.semilogy(non_adashift_test_loss_hist_mlp, label=\"non-adashift\")\n",
    "plt.ylim((0, 500))\n",
    "\n",
    "plt.legend(loc='best')\n",
    "plt.show()"
   ]
  },
  {
   "cell_type": "code",
   "execution_count": null,
   "metadata": {},
   "outputs": [],
   "source": [
    "plt.title(\"MNIST: multilayer perceptron\\n Test accuracy\")\n",
    "plt.plot(adam_test_acc_hist_mlp, label=\"adam\")\n",
    "plt.plot(amsgrad_test_acc_hist_mlp, label=\"amsgrad\")\n",
    "plt.plot(adashift_test_acc_hist_mlp, label=\"max-adashift\")\n",
    "plt.plot(non_adashift_test_acc_hist_mlp, label=\"non-adashift\")\n",
    "\n",
    "plt.legend(loc='best')\n",
    "plt.show()"
   ]
  },
  {
   "cell_type": "code",
   "execution_count": null,
   "metadata": {},
   "outputs": [],
   "source": [
    "plt.title(\"MNIST: multilayer perceptron\\n Test accuracy\")\n",
    "plt.plot(adam_test_acc_hist_mlp, label=\"adam\")\n",
    "plt.plot(amsgrad_test_acc_hist_mlp, label=\"amsgrad\")\n",
    "plt.plot(adashift_test_acc_hist_mlp, label=\"max-adashift\")\n",
    "plt.plot(non_adashift_test_acc_hist_mlp, label=\"non-adashift\")\n",
    "\n",
    "plt.legend(loc='best')\n",
    "plt.show()"
   ]
  }
 ],
 "metadata": {
  "kernelspec": {
   "display_name": "Python 3",
   "language": "python",
   "name": "python3"
  },
  "language_info": {
   "codemirror_mode": {
    "name": "ipython",
    "version": 3
   },
   "file_extension": ".py",
   "mimetype": "text/x-python",
   "name": "python",
   "nbconvert_exporter": "python",
   "pygments_lexer": "ipython3",
   "version": "3.6.4"
  }
 },
 "nbformat": 4,
 "nbformat_minor": 2
}
